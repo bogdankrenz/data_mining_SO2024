{
 "cells": [
  {
   "cell_type": "code",
   "execution_count": null,
   "metadata": {},
   "outputs": [],
   "source": [
    "import pandas as pd\n",
    "import pickle\n",
    "from sklearn.preprocessing import StandardScaler, MinMaxScaler, OneHotEncoder, LabelEncoder\n",
    "from sklearn.cluster import KMeans\n",
    "import matplotlib.pyplot as plt\n",
    "import numpy as np\n",
    "from sklearn.decomposition import PCA\n",
    "import seaborn as sns\n",
    "from sklearn.impute import SimpleImputer\n",
    "\n",
    "\n",
    "pd.set_option(\"display.width\", 1000)\n",
    "pd.set_option(\"display.max_columns\", None)"
   ]
  },
  {
   "cell_type": "code",
   "execution_count": null,
   "metadata": {},
   "outputs": [],
   "source": [
    "with open(\"../data/processed/masterFrame.pkl\", \"rb\") as file:\n",
    "    master_df = pickle.load(file)\n",
    "\n",
    "master_df = master_df.drop(columns=[\"ap_nf\"])\n",
    "\n",
    "# Handle missing values\n",
    "imputer = SimpleImputer(strategy=\"mean\")\n",
    "master_df_clean = pd.DataFrame(\n",
    "    imputer.fit_transform(\n",
    "        master_df.drop(columns=[\"FIPS\", \"naics\", \"OCC_CODE\"])),\n",
    "        columns=master_df.columns.drop([\"FIPS\", \"naics\", \"OCC_CODE\"])\n",
    ")\n",
    "\n",
    "master_df_clean.dropna(inplace=True)\n",
    "master_df_clean[\"FIPS\"] = master_df[\"FIPS\"].astype(str)\n",
    "master_df_clean[\"naics\"] = master_df[\"naics\"].astype(str)\n",
    "master_df_clean[\"OCC_CODE\"] = master_df[\"OCC_CODE\"].astype(str)\n",
    "\n",
    "le = LabelEncoder()\n",
    "min_max_scaler = MinMaxScaler()\n",
    "standard_scaler = StandardScaler()\n",
    "\n",
    "plt.figure(figsize=(10, 6))\n",
    "sns.scatterplot(\n",
    "    data=master_df_clean,\n",
    "    x=master_df[\"ap\"],\n",
    "    y=master_df[\"as\"],\n",
    ")\n",
    "plt.title('Scatter Plot')\n",
    "plt.xlabel('');\n",
    "plt.ylabel('');\n",
    "plt.show()\n",
    "\n",
    "numerical_columns = master_df_clean.select_dtypes(include=[\"float64\", \"int64\"]).columns\n",
    "\n",
    "\n",
    "all_features = [\n",
    "    \"FIPS\",\n",
    "    \"naics\",\n",
    "    \"OCC_CODE\",\n",
    "    \"mean_gdp\",\n",
    "    \"emp_total_county_naics\",\n",
    "    \"emp_total_county_naics_top5_occ\",\n",
    "    \"ap\",\n",
    "    \"est\",\n",
    "    \"emp_occupation\",\n",
    "    \"as\",\n",
    "    \"as_top5\",\n",
    "]\n",
    "\n",
    "master_df_clean[numerical_columns] = min_max_scaler.fit_transform(master_df_clean[numerical_columns])\n",
    "master_df_clean[numerical_columns] = standard_scaler.fit_transform(master_df_clean[numerical_columns])\n",
    "\n",
    "master_df_clean[\"FIPS\"] = le.fit_transform(master_df[\"FIPS\"])\n",
    "master_df_clean[\"naics\"] = le.fit_transform(master_df[\"naics\"])\n",
    "master_df_clean[\"OCC_CODE\"] = le.fit_transform(master_df[\"OCC_CODE\"])\n",
    "\n",
    "print(master_df_clean)\n",
    "\n",
    "# TODO: Elbow into clustering\n",
    "# TODO: EMP normal, as normal vs emp top2 & as top5 clustering (ohne occ nur fips/naics)"
   ]
  },
  {
   "cell_type": "code",
   "execution_count": null,
   "metadata": {},
   "outputs": [],
   "source": [
    "# Use Elbow Method to determine the optimal number of clusters\n",
    "wcss = []  # within-cluster sum of squares\n",
    "\n",
    "for i in range(1, 11):\n",
    "    kmeans = KMeans(\n",
    "        n_clusters=i, init=\"k-means++\", max_iter=300, n_init=10, random_state=0\n",
    "    )\n",
    "    kmeans.fit(master_df_clean[all_features])\n",
    "    wcss.append(kmeans.inertia_)\n",
    "\n",
    "# Plot the Elbow graph\n",
    "plt.plot(range(1, 11), wcss)\n",
    "plt.title(\"Elbow Method\")\n",
    "plt.xlabel(\"Number of clusters\")\n",
    "plt.ylabel(\"WCSS\")\n",
    "plt.show()\n",
    "\n",
    "# From the plot we assume that the optimal number of clusters are 3"
   ]
  },
  {
   "cell_type": "code",
   "execution_count": null,
   "metadata": {},
   "outputs": [],
   "source": [
    "# Apply K-Means with the optimal number of clusters\n",
    "kmeans = KMeans(n_clusters=3, init=\"k-means++\", max_iter=300, n_init=10, random_state=0)\n",
    "master_df_clean[\"Cluster\"] = kmeans.fit_predict(master_df_clean[all_features])"
   ]
  },
  {
   "cell_type": "code",
   "execution_count": null,
   "metadata": {},
   "outputs": [],
   "source": [
    "# View the clustered data\n",
    "print(master_df_clean)\n",
    "\n",
    "# Select numeric columns for the summary\n",
    "numeric_cols = master_df_clean.select_dtypes(include=[\"number\"]).columns\n",
    "\n",
    "# Summary of clusters\n",
    "cluster_summary = master_df_clean.groupby(\"Cluster\")[numeric_cols].mean()\n",
    "print(cluster_summary)"
   ]
  },
  {
   "cell_type": "code",
   "execution_count": null,
   "metadata": {},
   "outputs": [],
   "source": [
    "# Apply PCA to reduce to 2 dimensions for visualization\n",
    "pca = PCA(n_components=2)\n",
    "principal_components = pca.fit_transform(master_df_clean[all_features])\n",
    "\n",
    "# Create a DataFrame with the principal components\n",
    "pca_df = pd.DataFrame(data=principal_components, columns=[\"PC1\", \"PC2\"])\n",
    "\n",
    "# Add the cluster assignments to the PCA DataFrame\n",
    "pca_df[\"Cluster\"] = master_df_clean[\"Cluster\"]"
   ]
  },
  {
   "cell_type": "code",
   "execution_count": null,
   "metadata": {},
   "outputs": [],
   "source": [
    "# Plot the clusters\n",
    "plt.figure(figsize=(10, 7))\n",
    "sns.scatterplot(\n",
    "    x=\"PC1\", y=\"PC2\", hue=\"Cluster\", data=pca_df, palette=\"viridis\", s=100, alpha=0.7\n",
    ")\n",
    "plt.title(\"Clusters Visualization with PCA\")\n",
    "plt.xlabel(\"Principal Component 1\")\n",
    "plt.ylabel(\"Principal Component 2\")\n",
    "plt.legend(title=\"Cluster\")\n",
    "plt.show()"
   ]
  }
 ],
 "metadata": {
  "kernelspec": {
   "display_name": "env",
   "language": "python",
   "name": "python3"
  },
  "language_info": {
   "codemirror_mode": {
    "name": "ipython",
    "version": 3
   },
   "file_extension": ".py",
   "mimetype": "text/x-python",
   "name": "python",
   "nbconvert_exporter": "python",
   "pygments_lexer": "ipython3",
   "version": "3.9.5"
  }
 },
 "nbformat": 4,
 "nbformat_minor": 2
}
