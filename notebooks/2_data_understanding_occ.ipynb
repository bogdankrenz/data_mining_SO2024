{
 "cells": [
  {
   "cell_type": "markdown",
   "metadata": {},
   "source": [
    "# Data Understanding\n",
    "\n",
    "## Preperation\n",
    "\n",
    "Import packages and set globals"
   ]
  },
  {
   "cell_type": "code",
   "execution_count": 1,
   "metadata": {
    "ExecuteTime": {
     "end_time": "2024-07-03T14:30:45.006036Z",
     "start_time": "2024-07-03T14:30:45.000351Z"
    }
   },
   "outputs": [],
   "source": [
    "import pickle\n",
    "import pandas as pd\n",
    "import numpy as np\n",
    "import seaborn as sns\n",
    "import matplotlib.pyplot as plt\n",
    "\n",
    "pd.set_option(\"display.width\", 1000)\n",
    "pd.set_option('display.max_columns', None)\n",
    "\n",
    "%matplotlib inline\n",
    "plt.rcParams['figure.figsize'] = (20, 6)"
   ]
  },
  {
   "cell_type": "markdown",
   "metadata": {},
   "source": [
    "Import the occupation.pkl file"
   ]
  },
  {
   "cell_type": "code",
   "execution_count": 2,
   "metadata": {
    "ExecuteTime": {
     "end_time": "2024-07-03T14:30:45.329366Z",
     "start_time": "2024-07-03T14:30:45.104927Z"
    }
   },
   "outputs": [],
   "source": [
    "df = pickle.load(open(\"../data/raw/naics_occupation.pkl\", \"rb\"))"
   ]
  },
  {
   "cell_type": "markdown",
   "metadata": {},
   "source": [
    "## Structure\n",
    "\n",
    "Brief overview of the dataset\n",
    "\n",
    "### Data Format"
   ]
  },
  {
   "cell_type": "code",
   "execution_count": 3,
   "metadata": {
    "ExecuteTime": {
     "end_time": "2024-07-03T14:30:45.347048Z",
     "start_time": "2024-07-03T14:30:45.332724Z"
    }
   },
   "outputs": [
    {
     "data": {
      "text/html": [
       "<div>\n",
       "<style scoped>\n",
       "    .dataframe tbody tr th:only-of-type {\n",
       "        vertical-align: middle;\n",
       "    }\n",
       "\n",
       "    .dataframe tbody tr th {\n",
       "        vertical-align: top;\n",
       "    }\n",
       "\n",
       "    .dataframe thead th {\n",
       "        text-align: right;\n",
       "    }\n",
       "</style>\n",
       "<table border=\"1\" class=\"dataframe\">\n",
       "  <thead>\n",
       "    <tr style=\"text-align: right;\">\n",
       "      <th></th>\n",
       "      <th>FIPS</th>\n",
       "      <th>State_GEOID</th>\n",
       "      <th>naics</th>\n",
       "      <th>NAICS_TITLE</th>\n",
       "      <th>emp_total_county_naics</th>\n",
       "      <th>OCC_CODE</th>\n",
       "      <th>OCC_TITLE</th>\n",
       "      <th>emp_occupation</th>\n",
       "    </tr>\n",
       "  </thead>\n",
       "  <tbody>\n",
       "    <tr>\n",
       "      <th>0</th>\n",
       "      <td>13073</td>\n",
       "      <td>13</td>\n",
       "      <td>2373</td>\n",
       "      <td>Highway, Street, and Bridge Construction</td>\n",
       "      <td>27</td>\n",
       "      <td>11-3051</td>\n",
       "      <td>Industrial Production Managers</td>\n",
       "      <td>0.022497</td>\n",
       "    </tr>\n",
       "    <tr>\n",
       "      <th>1</th>\n",
       "      <td>13073</td>\n",
       "      <td>13</td>\n",
       "      <td>2381</td>\n",
       "      <td>Foundation, Structure, and Building Exterior C...</td>\n",
       "      <td>231</td>\n",
       "      <td>11-3051</td>\n",
       "      <td>Industrial Production Managers</td>\n",
       "      <td>0.067490</td>\n",
       "    </tr>\n",
       "    <tr>\n",
       "      <th>2</th>\n",
       "      <td>13073</td>\n",
       "      <td>13</td>\n",
       "      <td>2382</td>\n",
       "      <td>Building Equipment Contractors</td>\n",
       "      <td>868</td>\n",
       "      <td>11-3051</td>\n",
       "      <td>Industrial Production Managers</td>\n",
       "      <td>0.134981</td>\n",
       "    </tr>\n",
       "    <tr>\n",
       "      <th>3</th>\n",
       "      <td>13073</td>\n",
       "      <td>13</td>\n",
       "      <td>2383</td>\n",
       "      <td>Building Finishing Contractors</td>\n",
       "      <td>281</td>\n",
       "      <td>11-3051</td>\n",
       "      <td>Industrial Production Managers</td>\n",
       "      <td>0.078739</td>\n",
       "    </tr>\n",
       "    <tr>\n",
       "      <th>5</th>\n",
       "      <td>13073</td>\n",
       "      <td>13</td>\n",
       "      <td>3211</td>\n",
       "      <td>Sawmills and Wood Preservation</td>\n",
       "      <td>116</td>\n",
       "      <td>11-3051</td>\n",
       "      <td>Industrial Production Managers</td>\n",
       "      <td>0.978609</td>\n",
       "    </tr>\n",
       "    <tr>\n",
       "      <th>6</th>\n",
       "      <td>13073</td>\n",
       "      <td>13</td>\n",
       "      <td>3219</td>\n",
       "      <td>Other Wood Product Manufacturing</td>\n",
       "      <td>27</td>\n",
       "      <td>11-3051</td>\n",
       "      <td>Industrial Production Managers</td>\n",
       "      <td>0.258713</td>\n",
       "    </tr>\n",
       "    <tr>\n",
       "      <th>7</th>\n",
       "      <td>13073</td>\n",
       "      <td>13</td>\n",
       "      <td>3231</td>\n",
       "      <td>Printing and Related Support Activities</td>\n",
       "      <td>24</td>\n",
       "      <td>11-3051</td>\n",
       "      <td>Industrial Production Managers</td>\n",
       "      <td>0.258713</td>\n",
       "    </tr>\n",
       "    <tr>\n",
       "      <th>8</th>\n",
       "      <td>13073</td>\n",
       "      <td>13</td>\n",
       "      <td>3327</td>\n",
       "      <td>Machine Shops; Turned Product; and Screw, Nut,...</td>\n",
       "      <td>18</td>\n",
       "      <td>11-3051</td>\n",
       "      <td>Industrial Production Managers</td>\n",
       "      <td>0.314955</td>\n",
       "    </tr>\n",
       "    <tr>\n",
       "      <th>9</th>\n",
       "      <td>13073</td>\n",
       "      <td>13</td>\n",
       "      <td>3363</td>\n",
       "      <td>Motor Vehicle Parts Manufacturing</td>\n",
       "      <td>58</td>\n",
       "      <td>11-3051</td>\n",
       "      <td>Industrial Production Managers</td>\n",
       "      <td>0.933616</td>\n",
       "    </tr>\n",
       "    <tr>\n",
       "      <th>10</th>\n",
       "      <td>13073</td>\n",
       "      <td>13</td>\n",
       "      <td>3370A1</td>\n",
       "      <td>3371, 3372</td>\n",
       "      <td>108</td>\n",
       "      <td>11-3051</td>\n",
       "      <td>Industrial Production Managers</td>\n",
       "      <td>0.967361</td>\n",
       "    </tr>\n",
       "  </tbody>\n",
       "</table>\n",
       "</div>"
      ],
      "text/plain": [
       "     FIPS  State_GEOID   naics                                        NAICS_TITLE  emp_total_county_naics OCC_CODE                       OCC_TITLE  emp_occupation\n",
       "0   13073           13    2373           Highway, Street, and Bridge Construction                      27  11-3051  Industrial Production Managers        0.022497\n",
       "1   13073           13    2381  Foundation, Structure, and Building Exterior C...                     231  11-3051  Industrial Production Managers        0.067490\n",
       "2   13073           13    2382                     Building Equipment Contractors                     868  11-3051  Industrial Production Managers        0.134981\n",
       "3   13073           13    2383                     Building Finishing Contractors                     281  11-3051  Industrial Production Managers        0.078739\n",
       "5   13073           13    3211                     Sawmills and Wood Preservation                     116  11-3051  Industrial Production Managers        0.978609\n",
       "6   13073           13    3219                   Other Wood Product Manufacturing                      27  11-3051  Industrial Production Managers        0.258713\n",
       "7   13073           13    3231            Printing and Related Support Activities                      24  11-3051  Industrial Production Managers        0.258713\n",
       "8   13073           13    3327  Machine Shops; Turned Product; and Screw, Nut,...                      18  11-3051  Industrial Production Managers        0.314955\n",
       "9   13073           13    3363                  Motor Vehicle Parts Manufacturing                      58  11-3051  Industrial Production Managers        0.933616\n",
       "10  13073           13  3370A1                                         3371, 3372                     108  11-3051  Industrial Production Managers        0.967361"
      ]
     },
     "execution_count": 3,
     "metadata": {},
     "output_type": "execute_result"
    }
   ],
   "source": [
    "df.head(10)"
   ]
  },
  {
   "cell_type": "code",
   "execution_count": 4,
   "metadata": {},
   "outputs": [
    {
     "data": {
      "text/plain": [
       "FIPS                        int64\n",
       "State_GEOID                 int64\n",
       "naics                      object\n",
       "NAICS_TITLE                object\n",
       "emp_total_county_naics      int64\n",
       "OCC_CODE                   object\n",
       "OCC_TITLE                  object\n",
       "emp_occupation            float64\n",
       "dtype: object"
      ]
     },
     "execution_count": 4,
     "metadata": {},
     "output_type": "execute_result"
    }
   ],
   "source": [
    "df.dtypes"
   ]
  },
  {
   "cell_type": "markdown",
   "metadata": {},
   "source": [
    "### Remove unnecessary data for our task\n",
    "\n",
    "NAICS which don't fit our market:\n",
    "- not in metal working\n",
    "- focus on 11, 21, 22, 23, 31-33 "
   ]
  },
  {
   "cell_type": "code",
   "execution_count": 5,
   "metadata": {},
   "outputs": [
    {
     "ename": "KeyError",
     "evalue": "'IndustryClassification'",
     "output_type": "error",
     "traceback": [
      "\u001b[0;31m---------------------------------------------------------------------------\u001b[0m",
      "\u001b[0;31mKeyError\u001b[0m                                  Traceback (most recent call last)",
      "File \u001b[0;32m~/Dev/data_mining_SO2024/.venv/lib/python3.12/site-packages/pandas/core/indexes/base.py:3805\u001b[0m, in \u001b[0;36mIndex.get_loc\u001b[0;34m(self, key)\u001b[0m\n\u001b[1;32m   3804\u001b[0m \u001b[38;5;28;01mtry\u001b[39;00m:\n\u001b[0;32m-> 3805\u001b[0m     \u001b[38;5;28;01mreturn\u001b[39;00m \u001b[38;5;28;43mself\u001b[39;49m\u001b[38;5;241;43m.\u001b[39;49m\u001b[43m_engine\u001b[49m\u001b[38;5;241;43m.\u001b[39;49m\u001b[43mget_loc\u001b[49m\u001b[43m(\u001b[49m\u001b[43mcasted_key\u001b[49m\u001b[43m)\u001b[49m\n\u001b[1;32m   3806\u001b[0m \u001b[38;5;28;01mexcept\u001b[39;00m \u001b[38;5;167;01mKeyError\u001b[39;00m \u001b[38;5;28;01mas\u001b[39;00m err:\n",
      "File \u001b[0;32mindex.pyx:167\u001b[0m, in \u001b[0;36mpandas._libs.index.IndexEngine.get_loc\u001b[0;34m()\u001b[0m\n",
      "File \u001b[0;32mindex.pyx:196\u001b[0m, in \u001b[0;36mpandas._libs.index.IndexEngine.get_loc\u001b[0;34m()\u001b[0m\n",
      "File \u001b[0;32mpandas/_libs/hashtable_class_helper.pxi:7081\u001b[0m, in \u001b[0;36mpandas._libs.hashtable.PyObjectHashTable.get_item\u001b[0;34m()\u001b[0m\n",
      "File \u001b[0;32mpandas/_libs/hashtable_class_helper.pxi:7089\u001b[0m, in \u001b[0;36mpandas._libs.hashtable.PyObjectHashTable.get_item\u001b[0;34m()\u001b[0m\n",
      "\u001b[0;31mKeyError\u001b[0m: 'IndustryClassification'",
      "\nThe above exception was the direct cause of the following exception:\n",
      "\u001b[0;31mKeyError\u001b[0m                                  Traceback (most recent call last)",
      "Cell \u001b[0;32mIn[5], line 3\u001b[0m\n\u001b[1;32m      1\u001b[0m \u001b[38;5;66;03m# Remove NAICS as stated\u001b[39;00m\n\u001b[1;32m      2\u001b[0m naics_filter \u001b[38;5;241m=\u001b[39m \u001b[38;5;124m\"\u001b[39m\u001b[38;5;124m|\u001b[39m\u001b[38;5;124m\"\u001b[39m\u001b[38;5;241m.\u001b[39mjoin([\u001b[38;5;124m\"\u001b[39m\u001b[38;5;124m^11\u001b[39m\u001b[38;5;124m\"\u001b[39m, \u001b[38;5;124m\"\u001b[39m\u001b[38;5;124m^21\u001b[39m\u001b[38;5;124m\"\u001b[39m, \u001b[38;5;124m\"\u001b[39m\u001b[38;5;124m^22\u001b[39m\u001b[38;5;124m\"\u001b[39m, \u001b[38;5;124m\"\u001b[39m\u001b[38;5;124m^23\u001b[39m\u001b[38;5;124m\"\u001b[39m, \u001b[38;5;124m\"\u001b[39m\u001b[38;5;124m^31\u001b[39m\u001b[38;5;124m\"\u001b[39m, \u001b[38;5;124m\"\u001b[39m\u001b[38;5;124m^32\u001b[39m\u001b[38;5;124m\"\u001b[39m, \u001b[38;5;124m\"\u001b[39m\u001b[38;5;124m^33\u001b[39m\u001b[38;5;124m\"\u001b[39m])\n\u001b[0;32m----> 3\u001b[0m df \u001b[38;5;241m=\u001b[39m df\u001b[38;5;241m.\u001b[39mloc[\u001b[43mdf\u001b[49m\u001b[43m[\u001b[49m\u001b[38;5;124;43m\"\u001b[39;49m\u001b[38;5;124;43mIndustryClassification\u001b[39;49m\u001b[38;5;124;43m\"\u001b[39;49m\u001b[43m]\u001b[49m\u001b[38;5;241m.\u001b[39mstr\u001b[38;5;241m.\u001b[39mcontains(naics_filter)]\n",
      "File \u001b[0;32m~/Dev/data_mining_SO2024/.venv/lib/python3.12/site-packages/pandas/core/frame.py:4102\u001b[0m, in \u001b[0;36mDataFrame.__getitem__\u001b[0;34m(self, key)\u001b[0m\n\u001b[1;32m   4100\u001b[0m \u001b[38;5;28;01mif\u001b[39;00m \u001b[38;5;28mself\u001b[39m\u001b[38;5;241m.\u001b[39mcolumns\u001b[38;5;241m.\u001b[39mnlevels \u001b[38;5;241m>\u001b[39m \u001b[38;5;241m1\u001b[39m:\n\u001b[1;32m   4101\u001b[0m     \u001b[38;5;28;01mreturn\u001b[39;00m \u001b[38;5;28mself\u001b[39m\u001b[38;5;241m.\u001b[39m_getitem_multilevel(key)\n\u001b[0;32m-> 4102\u001b[0m indexer \u001b[38;5;241m=\u001b[39m \u001b[38;5;28;43mself\u001b[39;49m\u001b[38;5;241;43m.\u001b[39;49m\u001b[43mcolumns\u001b[49m\u001b[38;5;241;43m.\u001b[39;49m\u001b[43mget_loc\u001b[49m\u001b[43m(\u001b[49m\u001b[43mkey\u001b[49m\u001b[43m)\u001b[49m\n\u001b[1;32m   4103\u001b[0m \u001b[38;5;28;01mif\u001b[39;00m is_integer(indexer):\n\u001b[1;32m   4104\u001b[0m     indexer \u001b[38;5;241m=\u001b[39m [indexer]\n",
      "File \u001b[0;32m~/Dev/data_mining_SO2024/.venv/lib/python3.12/site-packages/pandas/core/indexes/base.py:3812\u001b[0m, in \u001b[0;36mIndex.get_loc\u001b[0;34m(self, key)\u001b[0m\n\u001b[1;32m   3807\u001b[0m     \u001b[38;5;28;01mif\u001b[39;00m \u001b[38;5;28misinstance\u001b[39m(casted_key, \u001b[38;5;28mslice\u001b[39m) \u001b[38;5;129;01mor\u001b[39;00m (\n\u001b[1;32m   3808\u001b[0m         \u001b[38;5;28misinstance\u001b[39m(casted_key, abc\u001b[38;5;241m.\u001b[39mIterable)\n\u001b[1;32m   3809\u001b[0m         \u001b[38;5;129;01mand\u001b[39;00m \u001b[38;5;28many\u001b[39m(\u001b[38;5;28misinstance\u001b[39m(x, \u001b[38;5;28mslice\u001b[39m) \u001b[38;5;28;01mfor\u001b[39;00m x \u001b[38;5;129;01min\u001b[39;00m casted_key)\n\u001b[1;32m   3810\u001b[0m     ):\n\u001b[1;32m   3811\u001b[0m         \u001b[38;5;28;01mraise\u001b[39;00m InvalidIndexError(key)\n\u001b[0;32m-> 3812\u001b[0m     \u001b[38;5;28;01mraise\u001b[39;00m \u001b[38;5;167;01mKeyError\u001b[39;00m(key) \u001b[38;5;28;01mfrom\u001b[39;00m \u001b[38;5;21;01merr\u001b[39;00m\n\u001b[1;32m   3813\u001b[0m \u001b[38;5;28;01mexcept\u001b[39;00m \u001b[38;5;167;01mTypeError\u001b[39;00m:\n\u001b[1;32m   3814\u001b[0m     \u001b[38;5;66;03m# If we have a listlike key, _check_indexing_error will raise\u001b[39;00m\n\u001b[1;32m   3815\u001b[0m     \u001b[38;5;66;03m#  InvalidIndexError. Otherwise we fall through and re-raise\u001b[39;00m\n\u001b[1;32m   3816\u001b[0m     \u001b[38;5;66;03m#  the TypeError.\u001b[39;00m\n\u001b[1;32m   3817\u001b[0m     \u001b[38;5;28mself\u001b[39m\u001b[38;5;241m.\u001b[39m_check_indexing_error(key)\n",
      "\u001b[0;31mKeyError\u001b[0m: 'IndustryClassification'"
     ]
    }
   ],
   "source": [
    "# Remove NAICS as stated\n",
    "naics_filter = \"|\".join([\"^11\", \"^21\", \"^22\", \"^23\", \"^31\", \"^32\", \"^33\"])\n",
    "df = df.loc[df[\"naics\"].str.contains(naics_filter)]"
   ]
  },
  {
   "cell_type": "markdown",
   "metadata": {},
   "source": [
    "### Content Description"
   ]
  },
  {
   "cell_type": "code",
   "execution_count": null,
   "metadata": {
    "ExecuteTime": {
     "end_time": "2024-07-03T14:30:45.491985Z",
     "start_time": "2024-07-03T14:30:45.349792Z"
    }
   },
   "outputs": [
    {
     "data": {
      "text/html": [
       "<div>\n",
       "<style scoped>\n",
       "    .dataframe tbody tr th:only-of-type {\n",
       "        vertical-align: middle;\n",
       "    }\n",
       "\n",
       "    .dataframe tbody tr th {\n",
       "        vertical-align: top;\n",
       "    }\n",
       "\n",
       "    .dataframe thead th {\n",
       "        text-align: right;\n",
       "    }\n",
       "</style>\n",
       "<table border=\"1\" class=\"dataframe\">\n",
       "  <thead>\n",
       "    <tr style=\"text-align: right;\">\n",
       "      <th></th>\n",
       "      <th>FIPS</th>\n",
       "      <th>State_GEOID</th>\n",
       "      <th>emp_total_county_naics</th>\n",
       "      <th>emp_occupation</th>\n",
       "    </tr>\n",
       "  </thead>\n",
       "  <tbody>\n",
       "    <tr>\n",
       "      <th>count</th>\n",
       "      <td>1.108336e+06</td>\n",
       "      <td>1.108336e+06</td>\n",
       "      <td>1.108336e+06</td>\n",
       "      <td>1.108336e+06</td>\n",
       "    </tr>\n",
       "    <tr>\n",
       "      <th>mean</th>\n",
       "      <td>3.043956e+04</td>\n",
       "      <td>3.033609e+01</td>\n",
       "      <td>7.954656e+02</td>\n",
       "      <td>4.883497e+00</td>\n",
       "    </tr>\n",
       "    <tr>\n",
       "      <th>std</th>\n",
       "      <td>1.531405e+04</td>\n",
       "      <td>1.529425e+01</td>\n",
       "      <td>1.217243e+04</td>\n",
       "      <td>4.937105e+01</td>\n",
       "    </tr>\n",
       "    <tr>\n",
       "      <th>min</th>\n",
       "      <td>1.001000e+03</td>\n",
       "      <td>1.000000e+00</td>\n",
       "      <td>1.000000e+00</td>\n",
       "      <td>6.261349e-04</td>\n",
       "    </tr>\n",
       "    <tr>\n",
       "      <th>25%</th>\n",
       "      <td>1.806300e+04</td>\n",
       "      <td>1.800000e+01</td>\n",
       "      <td>4.700000e+01</td>\n",
       "      <td>5.300153e-02</td>\n",
       "    </tr>\n",
       "    <tr>\n",
       "      <th>50%</th>\n",
       "      <td>3.011100e+04</td>\n",
       "      <td>3.000000e+01</td>\n",
       "      <td>1.340000e+02</td>\n",
       "      <td>2.462883e-01</td>\n",
       "    </tr>\n",
       "    <tr>\n",
       "      <th>75%</th>\n",
       "      <td>4.211100e+04</td>\n",
       "      <td>4.200000e+01</td>\n",
       "      <td>4.180000e+02</td>\n",
       "      <td>1.356463e+00</td>\n",
       "    </tr>\n",
       "    <tr>\n",
       "      <th>max</th>\n",
       "      <td>5.699900e+04</td>\n",
       "      <td>5.600000e+01</td>\n",
       "      <td>1.436559e+06</td>\n",
       "      <td>2.619283e+04</td>\n",
       "    </tr>\n",
       "  </tbody>\n",
       "</table>\n",
       "</div>"
      ],
      "text/plain": [
       "               FIPS   State_GEOID  emp_total_county_naics  emp_occupation\n",
       "count  1.108336e+06  1.108336e+06            1.108336e+06    1.108336e+06\n",
       "mean   3.043956e+04  3.033609e+01            7.954656e+02    4.883497e+00\n",
       "std    1.531405e+04  1.529425e+01            1.217243e+04    4.937105e+01\n",
       "min    1.001000e+03  1.000000e+00            1.000000e+00    6.261349e-04\n",
       "25%    1.806300e+04  1.800000e+01            4.700000e+01    5.300153e-02\n",
       "50%    3.011100e+04  3.000000e+01            1.340000e+02    2.462883e-01\n",
       "75%    4.211100e+04  4.200000e+01            4.180000e+02    1.356463e+00\n",
       "max    5.699900e+04  5.600000e+01            1.436559e+06    2.619283e+04"
      ]
     },
     "execution_count": 4,
     "metadata": {},
     "output_type": "execute_result"
    }
   ],
   "source": [
    "df.describe()"
   ]
  },
  {
   "cell_type": "code",
   "execution_count": null,
   "metadata": {
    "ExecuteTime": {
     "end_time": "2024-07-03T14:30:45.656684Z",
     "start_time": "2024-07-03T14:30:45.494971Z"
    }
   },
   "outputs": [
    {
     "data": {
      "text/plain": [
       "FIPS                      0\n",
       "State_GEOID               0\n",
       "naics                     0\n",
       "NAICS_TITLE               0\n",
       "emp_total_county_naics    0\n",
       "OCC_CODE                  0\n",
       "OCC_TITLE                 0\n",
       "emp_occupation            0\n",
       "dtype: int64"
      ]
     },
     "execution_count": 5,
     "metadata": {},
     "output_type": "execute_result"
    }
   ],
   "source": [
    "df.isna().sum()"
   ]
  },
  {
   "cell_type": "markdown",
   "metadata": {},
   "source": [
    "## Data Analysis\n",
    "\n",
    "Top 10 industries by employment count"
   ]
  },
  {
   "cell_type": "code",
   "execution_count": null,
   "metadata": {
    "ExecuteTime": {
     "end_time": "2024-07-03T14:30:45.861054Z",
     "start_time": "2024-07-03T14:30:45.658727Z"
    }
   },
   "outputs": [
    {
     "data": {
      "text/plain": [
       "naics   NAICS_TITLE                                             \n",
       "5613    Employment Services                                         366026816\n",
       "5413    Architectural, Engineering, and Related Services             48325842\n",
       "2382    Building Equipment Contractors                               44530977\n",
       "4238    Machinery, Equipment, and Supplies Merchant Wholesalers      26752088\n",
       "2381    Foundation, Structure, and Building Exterior Contractors     22879267\n",
       "3261    Plastics Product Manufacturing                               21951362\n",
       "3330A1  3331, 3332, 3334, 3339                                       21783057\n",
       "3363    Motor Vehicle Parts Manufacturing                            20955381\n",
       "5617    Services to Buildings and Dwellings                          20539859\n",
       "8111    Automotive Repair and Maintenance                            17402518\n",
       "Name: emp_total_county_naics, dtype: int64"
      ]
     },
     "execution_count": 6,
     "metadata": {},
     "output_type": "execute_result"
    }
   ],
   "source": [
    "highest_employment = df.groupby([\"naics\", \"NAICS_TITLE\"])[\"emp_total_county_naics\"].sum()\n",
    "highest_employment = highest_employment.sort_values(ascending=False)\n",
    "\n",
    "highest_employment.head(10)"
   ]
  }
 ],
 "metadata": {
  "kernelspec": {
   "display_name": ".venv",
   "language": "python",
   "name": "python3"
  },
  "language_info": {
   "codemirror_mode": {
    "name": "ipython",
    "version": 3
   },
   "file_extension": ".py",
   "mimetype": "text/x-python",
   "name": "python",
   "nbconvert_exporter": "python",
   "pygments_lexer": "ipython3",
   "version": "3.12.4"
  }
 },
 "nbformat": 4,
 "nbformat_minor": 2
}
