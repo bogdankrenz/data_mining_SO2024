{
 "cells": [
  {
   "cell_type": "markdown",
   "metadata": {},
   "source": [
    "# Data Understanding\n",
    "\n",
    "## Preperation\n",
    "\n",
    "Import packages and set globals"
   ]
  },
  {
   "cell_type": "code",
   "execution_count": 70,
   "metadata": {
    "ExecuteTime": {
     "end_time": "2024-07-03T14:30:45.006036Z",
     "start_time": "2024-07-03T14:30:45.000351Z"
    }
   },
   "outputs": [],
   "source": [
    "import pickle\n",
    "import pandas as pd\n",
    "import numpy as np\n",
    "import seaborn as sns\n",
    "import matplotlib.pyplot as plt\n",
    "\n",
    "pd.set_option(\"display.width\", 1000)\n",
    "pd.set_option('display.max_columns', None)\n",
    "pd.options.display.float_format = '{:.2f}'.format\n",
    "\n",
    "%matplotlib inline\n",
    "plt.rcParams['figure.figsize'] = (20, 6)"
   ]
  },
  {
   "cell_type": "markdown",
   "metadata": {},
   "source": [
    "Import the occupation.pkl file"
   ]
  },
  {
   "cell_type": "code",
   "execution_count": 71,
   "metadata": {
    "ExecuteTime": {
     "end_time": "2024-07-03T14:30:45.329366Z",
     "start_time": "2024-07-03T14:30:45.104927Z"
    }
   },
   "outputs": [],
   "source": [
    "df = pd.read_pickle(\"../data/raw/naics_occupation.pkl\")"
   ]
  },
  {
   "cell_type": "markdown",
   "metadata": {},
   "source": [
    "## Structure\n",
    "\n",
    "Brief overview of the dataset\n",
    "\n",
    "### Data Format"
   ]
  },
  {
   "cell_type": "code",
   "execution_count": 72,
   "metadata": {
    "ExecuteTime": {
     "end_time": "2024-07-03T14:30:45.347048Z",
     "start_time": "2024-07-03T14:30:45.332724Z"
    }
   },
   "outputs": [
    {
     "data": {
      "text/html": [
       "<div>\n",
       "<style scoped>\n",
       "    .dataframe tbody tr th:only-of-type {\n",
       "        vertical-align: middle;\n",
       "    }\n",
       "\n",
       "    .dataframe tbody tr th {\n",
       "        vertical-align: top;\n",
       "    }\n",
       "\n",
       "    .dataframe thead th {\n",
       "        text-align: right;\n",
       "    }\n",
       "</style>\n",
       "<table border=\"1\" class=\"dataframe\">\n",
       "  <thead>\n",
       "    <tr style=\"text-align: right;\">\n",
       "      <th></th>\n",
       "      <th>FIPS</th>\n",
       "      <th>State_GEOID</th>\n",
       "      <th>naics</th>\n",
       "      <th>NAICS_TITLE</th>\n",
       "      <th>emp_total_county_naics</th>\n",
       "      <th>OCC_CODE</th>\n",
       "      <th>OCC_TITLE</th>\n",
       "      <th>emp_occupation</th>\n",
       "    </tr>\n",
       "  </thead>\n",
       "  <tbody>\n",
       "    <tr>\n",
       "      <th>0</th>\n",
       "      <td>13073</td>\n",
       "      <td>13</td>\n",
       "      <td>2373</td>\n",
       "      <td>Highway, Street, and Bridge Construction</td>\n",
       "      <td>27</td>\n",
       "      <td>11-3051</td>\n",
       "      <td>Industrial Production Managers</td>\n",
       "      <td>0.02</td>\n",
       "    </tr>\n",
       "    <tr>\n",
       "      <th>1</th>\n",
       "      <td>13073</td>\n",
       "      <td>13</td>\n",
       "      <td>2381</td>\n",
       "      <td>Foundation, Structure, and Building Exterior C...</td>\n",
       "      <td>231</td>\n",
       "      <td>11-3051</td>\n",
       "      <td>Industrial Production Managers</td>\n",
       "      <td>0.07</td>\n",
       "    </tr>\n",
       "    <tr>\n",
       "      <th>2</th>\n",
       "      <td>13073</td>\n",
       "      <td>13</td>\n",
       "      <td>2382</td>\n",
       "      <td>Building Equipment Contractors</td>\n",
       "      <td>868</td>\n",
       "      <td>11-3051</td>\n",
       "      <td>Industrial Production Managers</td>\n",
       "      <td>0.13</td>\n",
       "    </tr>\n",
       "    <tr>\n",
       "      <th>3</th>\n",
       "      <td>13073</td>\n",
       "      <td>13</td>\n",
       "      <td>2383</td>\n",
       "      <td>Building Finishing Contractors</td>\n",
       "      <td>281</td>\n",
       "      <td>11-3051</td>\n",
       "      <td>Industrial Production Managers</td>\n",
       "      <td>0.08</td>\n",
       "    </tr>\n",
       "    <tr>\n",
       "      <th>5</th>\n",
       "      <td>13073</td>\n",
       "      <td>13</td>\n",
       "      <td>3211</td>\n",
       "      <td>Sawmills and Wood Preservation</td>\n",
       "      <td>116</td>\n",
       "      <td>11-3051</td>\n",
       "      <td>Industrial Production Managers</td>\n",
       "      <td>0.98</td>\n",
       "    </tr>\n",
       "    <tr>\n",
       "      <th>6</th>\n",
       "      <td>13073</td>\n",
       "      <td>13</td>\n",
       "      <td>3219</td>\n",
       "      <td>Other Wood Product Manufacturing</td>\n",
       "      <td>27</td>\n",
       "      <td>11-3051</td>\n",
       "      <td>Industrial Production Managers</td>\n",
       "      <td>0.26</td>\n",
       "    </tr>\n",
       "    <tr>\n",
       "      <th>7</th>\n",
       "      <td>13073</td>\n",
       "      <td>13</td>\n",
       "      <td>3231</td>\n",
       "      <td>Printing and Related Support Activities</td>\n",
       "      <td>24</td>\n",
       "      <td>11-3051</td>\n",
       "      <td>Industrial Production Managers</td>\n",
       "      <td>0.26</td>\n",
       "    </tr>\n",
       "    <tr>\n",
       "      <th>8</th>\n",
       "      <td>13073</td>\n",
       "      <td>13</td>\n",
       "      <td>3327</td>\n",
       "      <td>Machine Shops; Turned Product; and Screw, Nut,...</td>\n",
       "      <td>18</td>\n",
       "      <td>11-3051</td>\n",
       "      <td>Industrial Production Managers</td>\n",
       "      <td>0.31</td>\n",
       "    </tr>\n",
       "    <tr>\n",
       "      <th>9</th>\n",
       "      <td>13073</td>\n",
       "      <td>13</td>\n",
       "      <td>3363</td>\n",
       "      <td>Motor Vehicle Parts Manufacturing</td>\n",
       "      <td>58</td>\n",
       "      <td>11-3051</td>\n",
       "      <td>Industrial Production Managers</td>\n",
       "      <td>0.93</td>\n",
       "    </tr>\n",
       "    <tr>\n",
       "      <th>10</th>\n",
       "      <td>13073</td>\n",
       "      <td>13</td>\n",
       "      <td>3370A1</td>\n",
       "      <td>3371, 3372</td>\n",
       "      <td>108</td>\n",
       "      <td>11-3051</td>\n",
       "      <td>Industrial Production Managers</td>\n",
       "      <td>0.97</td>\n",
       "    </tr>\n",
       "  </tbody>\n",
       "</table>\n",
       "</div>"
      ],
      "text/plain": [
       "     FIPS  State_GEOID   naics                                        NAICS_TITLE  emp_total_county_naics OCC_CODE                       OCC_TITLE  emp_occupation\n",
       "0   13073           13    2373           Highway, Street, and Bridge Construction                      27  11-3051  Industrial Production Managers            0.02\n",
       "1   13073           13    2381  Foundation, Structure, and Building Exterior C...                     231  11-3051  Industrial Production Managers            0.07\n",
       "2   13073           13    2382                     Building Equipment Contractors                     868  11-3051  Industrial Production Managers            0.13\n",
       "3   13073           13    2383                     Building Finishing Contractors                     281  11-3051  Industrial Production Managers            0.08\n",
       "5   13073           13    3211                     Sawmills and Wood Preservation                     116  11-3051  Industrial Production Managers            0.98\n",
       "6   13073           13    3219                   Other Wood Product Manufacturing                      27  11-3051  Industrial Production Managers            0.26\n",
       "7   13073           13    3231            Printing and Related Support Activities                      24  11-3051  Industrial Production Managers            0.26\n",
       "8   13073           13    3327  Machine Shops; Turned Product; and Screw, Nut,...                      18  11-3051  Industrial Production Managers            0.31\n",
       "9   13073           13    3363                  Motor Vehicle Parts Manufacturing                      58  11-3051  Industrial Production Managers            0.93\n",
       "10  13073           13  3370A1                                         3371, 3372                     108  11-3051  Industrial Production Managers            0.97"
      ]
     },
     "execution_count": 72,
     "metadata": {},
     "output_type": "execute_result"
    }
   ],
   "source": [
    "df.head(10)"
   ]
  },
  {
   "cell_type": "code",
   "execution_count": 73,
   "metadata": {},
   "outputs": [
    {
     "data": {
      "text/plain": [
       "FIPS                        int64\n",
       "State_GEOID                 int64\n",
       "naics                      object\n",
       "NAICS_TITLE                object\n",
       "emp_total_county_naics      int64\n",
       "OCC_CODE                   object\n",
       "OCC_TITLE                  object\n",
       "emp_occupation            float64\n",
       "dtype: object"
      ]
     },
     "execution_count": 73,
     "metadata": {},
     "output_type": "execute_result"
    }
   ],
   "source": [
    "df.dtypes"
   ]
  },
  {
   "cell_type": "markdown",
   "metadata": {},
   "source": [
    "### Remove unnecessary data for our task\n",
    "\n",
    "NAICS which don't fit our market:\n",
    "- not in metal working\n",
    "- focus on 11, 21, 22, 23, 31-33 "
   ]
  },
  {
   "cell_type": "code",
   "execution_count": 74,
   "metadata": {},
   "outputs": [],
   "source": [
    "# Remove NAICS as stated\n",
    "naics_filter = \"|\".join([\"^11\", \"^21\", \"^22\", \"^23\", \"^31\", \"^32\", \"^33\"])\n",
    "df = df.loc[df[\"naics\"].str.contains(naics_filter)]"
   ]
  },
  {
   "cell_type": "markdown",
   "metadata": {},
   "source": [
    "### Content Description"
   ]
  },
  {
   "cell_type": "code",
   "execution_count": 75,
   "metadata": {
    "ExecuteTime": {
     "end_time": "2024-07-03T14:30:45.491985Z",
     "start_time": "2024-07-03T14:30:45.349792Z"
    }
   },
   "outputs": [
    {
     "data": {
      "text/html": [
       "<div>\n",
       "<style scoped>\n",
       "    .dataframe tbody tr th:only-of-type {\n",
       "        vertical-align: middle;\n",
       "    }\n",
       "\n",
       "    .dataframe tbody tr th {\n",
       "        vertical-align: top;\n",
       "    }\n",
       "\n",
       "    .dataframe thead th {\n",
       "        text-align: right;\n",
       "    }\n",
       "</style>\n",
       "<table border=\"1\" class=\"dataframe\">\n",
       "  <thead>\n",
       "    <tr style=\"text-align: right;\">\n",
       "      <th></th>\n",
       "      <th>FIPS</th>\n",
       "      <th>State_GEOID</th>\n",
       "      <th>emp_total_county_naics</th>\n",
       "      <th>emp_occupation</th>\n",
       "    </tr>\n",
       "  </thead>\n",
       "  <tbody>\n",
       "    <tr>\n",
       "      <th>count</th>\n",
       "      <td>711429.00</td>\n",
       "      <td>711429.00</td>\n",
       "      <td>711429.00</td>\n",
       "      <td>711429.00</td>\n",
       "    </tr>\n",
       "    <tr>\n",
       "      <th>mean</th>\n",
       "      <td>30455.95</td>\n",
       "      <td>30.36</td>\n",
       "      <td>493.68</td>\n",
       "      <td>4.38</td>\n",
       "    </tr>\n",
       "    <tr>\n",
       "      <th>std</th>\n",
       "      <td>15347.50</td>\n",
       "      <td>15.33</td>\n",
       "      <td>1435.48</td>\n",
       "      <td>28.72</td>\n",
       "    </tr>\n",
       "    <tr>\n",
       "      <th>min</th>\n",
       "      <td>1001.00</td>\n",
       "      <td>1.00</td>\n",
       "      <td>1.00</td>\n",
       "      <td>0.00</td>\n",
       "    </tr>\n",
       "    <tr>\n",
       "      <th>25%</th>\n",
       "      <td>18055.00</td>\n",
       "      <td>18.00</td>\n",
       "      <td>49.00</td>\n",
       "      <td>0.06</td>\n",
       "    </tr>\n",
       "    <tr>\n",
       "      <th>50%</th>\n",
       "      <td>31065.00</td>\n",
       "      <td>31.00</td>\n",
       "      <td>139.00</td>\n",
       "      <td>0.29</td>\n",
       "    </tr>\n",
       "    <tr>\n",
       "      <th>75%</th>\n",
       "      <td>42101.00</td>\n",
       "      <td>42.00</td>\n",
       "      <td>415.00</td>\n",
       "      <td>1.54</td>\n",
       "    </tr>\n",
       "    <tr>\n",
       "      <th>max</th>\n",
       "      <td>56999.00</td>\n",
       "      <td>56.00</td>\n",
       "      <td>45246.00</td>\n",
       "      <td>5323.30</td>\n",
       "    </tr>\n",
       "  </tbody>\n",
       "</table>\n",
       "</div>"
      ],
      "text/plain": [
       "           FIPS  State_GEOID  emp_total_county_naics  emp_occupation\n",
       "count 711429.00    711429.00               711429.00       711429.00\n",
       "mean   30455.95        30.36                  493.68            4.38\n",
       "std    15347.50        15.33                 1435.48           28.72\n",
       "min     1001.00         1.00                    1.00            0.00\n",
       "25%    18055.00        18.00                   49.00            0.06\n",
       "50%    31065.00        31.00                  139.00            0.29\n",
       "75%    42101.00        42.00                  415.00            1.54\n",
       "max    56999.00        56.00                45246.00         5323.30"
      ]
     },
     "execution_count": 75,
     "metadata": {},
     "output_type": "execute_result"
    }
   ],
   "source": [
    "df.describe()"
   ]
  },
  {
   "cell_type": "code",
   "execution_count": 76,
   "metadata": {
    "ExecuteTime": {
     "end_time": "2024-07-03T14:30:45.656684Z",
     "start_time": "2024-07-03T14:30:45.494971Z"
    }
   },
   "outputs": [
    {
     "data": {
      "text/plain": [
       "FIPS                      0\n",
       "State_GEOID               0\n",
       "naics                     0\n",
       "NAICS_TITLE               0\n",
       "emp_total_county_naics    0\n",
       "OCC_CODE                  0\n",
       "OCC_TITLE                 0\n",
       "emp_occupation            0\n",
       "dtype: int64"
      ]
     },
     "execution_count": 76,
     "metadata": {},
     "output_type": "execute_result"
    }
   ],
   "source": [
    "df.isna().sum()"
   ]
  },
  {
   "cell_type": "markdown",
   "metadata": {},
   "source": [
    "## Data Analysis\n",
    "\n",
    "Top 10 industries by ***employment count***"
   ]
  },
  {
   "cell_type": "code",
   "execution_count": 77,
   "metadata": {
    "ExecuteTime": {
     "end_time": "2024-07-03T14:30:45.861054Z",
     "start_time": "2024-07-03T14:30:45.658727Z"
    }
   },
   "outputs": [
    {
     "data": {
      "text/html": [
       "<div>\n",
       "<style scoped>\n",
       "    .dataframe tbody tr th:only-of-type {\n",
       "        vertical-align: middle;\n",
       "    }\n",
       "\n",
       "    .dataframe tbody tr th {\n",
       "        vertical-align: top;\n",
       "    }\n",
       "\n",
       "    .dataframe thead th {\n",
       "        text-align: right;\n",
       "    }\n",
       "</style>\n",
       "<table border=\"1\" class=\"dataframe\">\n",
       "  <thead>\n",
       "    <tr style=\"text-align: right;\">\n",
       "      <th></th>\n",
       "      <th>naics</th>\n",
       "      <th>NAICS_TITLE</th>\n",
       "      <th>emp_total_county_naics</th>\n",
       "    </tr>\n",
       "  </thead>\n",
       "  <tbody>\n",
       "    <tr>\n",
       "      <th>0</th>\n",
       "      <td>2382</td>\n",
       "      <td>Building Equipment Contractors</td>\n",
       "      <td>44530977</td>\n",
       "    </tr>\n",
       "    <tr>\n",
       "      <th>1</th>\n",
       "      <td>2381</td>\n",
       "      <td>Foundation, Structure, and Building Exterior C...</td>\n",
       "      <td>22879267</td>\n",
       "    </tr>\n",
       "    <tr>\n",
       "      <th>2</th>\n",
       "      <td>3261</td>\n",
       "      <td>Plastics Product Manufacturing</td>\n",
       "      <td>21951362</td>\n",
       "    </tr>\n",
       "    <tr>\n",
       "      <th>3</th>\n",
       "      <td>3330A1</td>\n",
       "      <td>3331, 3332, 3334, 3339</td>\n",
       "      <td>21783057</td>\n",
       "    </tr>\n",
       "    <tr>\n",
       "      <th>4</th>\n",
       "      <td>3363</td>\n",
       "      <td>Motor Vehicle Parts Manufacturing</td>\n",
       "      <td>20955381</td>\n",
       "    </tr>\n",
       "    <tr>\n",
       "      <th>5</th>\n",
       "      <td>2383</td>\n",
       "      <td>Building Finishing Contractors</td>\n",
       "      <td>15246977</td>\n",
       "    </tr>\n",
       "    <tr>\n",
       "      <th>6</th>\n",
       "      <td>3364</td>\n",
       "      <td>Aerospace Product and Parts Manufacturing</td>\n",
       "      <td>14287086</td>\n",
       "    </tr>\n",
       "    <tr>\n",
       "      <th>7</th>\n",
       "      <td>3320A1</td>\n",
       "      <td>3321, 3322, 3325, 3326, 3329</td>\n",
       "      <td>14116687</td>\n",
       "    </tr>\n",
       "    <tr>\n",
       "      <th>8</th>\n",
       "      <td>3320A2</td>\n",
       "      <td>3323, 3323</td>\n",
       "      <td>13579231</td>\n",
       "    </tr>\n",
       "    <tr>\n",
       "      <th>9</th>\n",
       "      <td>2371</td>\n",
       "      <td>Utility System Construction</td>\n",
       "      <td>13207061</td>\n",
       "    </tr>\n",
       "  </tbody>\n",
       "</table>\n",
       "</div>"
      ],
      "text/plain": [
       "    naics                                        NAICS_TITLE  emp_total_county_naics\n",
       "0    2382                     Building Equipment Contractors                44530977\n",
       "1    2381  Foundation, Structure, and Building Exterior C...                22879267\n",
       "2    3261                     Plastics Product Manufacturing                21951362\n",
       "3  3330A1                             3331, 3332, 3334, 3339                21783057\n",
       "4    3363                  Motor Vehicle Parts Manufacturing                20955381\n",
       "5    2383                     Building Finishing Contractors                15246977\n",
       "6    3364          Aerospace Product and Parts Manufacturing                14287086\n",
       "7  3320A1                       3321, 3322, 3325, 3326, 3329                14116687\n",
       "8  3320A2                                         3323, 3323                13579231\n",
       "9    2371                        Utility System Construction                13207061"
      ]
     },
     "execution_count": 77,
     "metadata": {},
     "output_type": "execute_result"
    }
   ],
   "source": [
    "highest_employment = df.groupby([\"naics\", \"NAICS_TITLE\"])[\"emp_total_county_naics\"].sum()\n",
    "highest_employment = highest_employment.sort_values(ascending=False).reset_index()\n",
    "\n",
    "highest_employment.head(10)"
   ]
  },
  {
   "cell_type": "markdown",
   "metadata": {},
   "source": [
    "## Export\n",
    "\n",
    "Export top 5 industries into top_industries.pkl\n",
    "\n",
    "Import top_industries.pkl"
   ]
  },
  {
   "cell_type": "code",
   "execution_count": 78,
   "metadata": {},
   "outputs": [],
   "source": [
    "top_industries = pd.read_pickle(\"../data/processed/top_industries.pkl\")"
   ]
  },
  {
   "cell_type": "markdown",
   "metadata": {},
   "source": [
    "Export the top 5 industries into top_industries.pkl"
   ]
  },
  {
   "cell_type": "code",
   "execution_count": 79,
   "metadata": {},
   "outputs": [],
   "source": [
    "top_industries[\"by_employees\"] = highest_employment[\"naics\"].head(5)"
   ]
  },
  {
   "cell_type": "code",
   "execution_count": 80,
   "metadata": {},
   "outputs": [],
   "source": [
    "pd.to_pickle(top_industries, \"../data/processed/top_industries.pkl\")"
   ]
  },
  {
   "cell_type": "markdown",
   "metadata": {},
   "source": [
    "## Top Jobs\n",
    "\n",
    "Filter out the NAICS we established as being interesting"
   ]
  },
  {
   "cell_type": "code",
   "execution_count": 81,
   "metadata": {},
   "outputs": [],
   "source": [
    "naics_filter = [\"3311\", \"3330A1\", \"3361\", \"3363\", \"2381\"]\n",
    "df = df[df[\"naics\"].isin(naics_filter)]"
   ]
  },
  {
   "cell_type": "markdown",
   "metadata": {},
   "source": [
    "Group by occupation, to find out the highest personal per job"
   ]
  },
  {
   "cell_type": "code",
   "execution_count": 82,
   "metadata": {},
   "outputs": [],
   "source": [
    "top_occupations = df.groupby([\"OCC_CODE\", \"OCC_TITLE\"])[\"emp_occupation\"].sum()\n",
    "top_occupations = top_occupations.sort_values(ascending=False)"
   ]
  },
  {
   "cell_type": "code",
   "execution_count": 83,
   "metadata": {},
   "outputs": [
    {
     "data": {
      "text/plain": [
       "OCC_CODE  OCC_TITLE                                                                              \n",
       "51-4121   Welders, Cutters, Solderers, and Brazers                                                  86414.26\n",
       "51-4031   Cutting, Punching, and Press Machine Setters, Operators, and Tenders, Metal and Plastic   52591.47\n",
       "51-4041   Machinists                                                                                44634.91\n",
       "17-2112   Industrial Engineers                                                                      43348.76\n",
       "17-2141   Mechanical Engineers                                                                      39079.29\n",
       "49-9071   Maintenance and Repair Workers, General                                                   38633.93\n",
       "51-2031   Engine and Other Machine Assemblers                                                       37135.57\n",
       "49-9041   Industrial Machinery Mechanics                                                            36522.61\n",
       "47-2221   Structural Iron and Steel Workers                                                         34719.59\n",
       "51-4081   Multiple Machine Tool Setters, Operators, and Tenders, Metal and Plastic                  28413.24\n",
       "Name: emp_occupation, dtype: float64"
      ]
     },
     "execution_count": 83,
     "metadata": {},
     "output_type": "execute_result"
    }
   ],
   "source": [
    "top_occupations.head(10)"
   ]
  }
 ],
 "metadata": {
  "kernelspec": {
   "display_name": ".venv",
   "language": "python",
   "name": "python3"
  },
  "language_info": {
   "codemirror_mode": {
    "name": "ipython",
    "version": 3
   },
   "file_extension": ".py",
   "mimetype": "text/x-python",
   "name": "python",
   "nbconvert_exporter": "python",
   "pygments_lexer": "ipython3",
   "version": "3.12.4"
  }
 },
 "nbformat": 4,
 "nbformat_minor": 2
}
