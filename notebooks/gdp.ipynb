{
 "cells": [
  {
   "cell_type": "code",
   "execution_count": null,
   "metadata": {},
   "outputs": [],
   "source": [
    "import pickle\n",
    "import pandas as pd\n",
    "pd.set_option('display.width', 1000)\n",
    "\n",
    "with open(\"../data/raw/gdp.pkl\", \"rb\") as file:\n",
    "  df = pickle.load(file)"
   ]
  },
  {
   "cell_type": "markdown",
   "metadata": {},
   "source": [
    "## Preprocessing\n",
    "\n",
    "- [x] Make dataset uniform to others\n",
    "- [x] Define naics/fips filters for cleanup\n",
    "- [x] Apply filters\n",
    "- [x] Group for naics and fips"
   ]
  },
  {
   "cell_type": "code",
   "execution_count": null,
   "metadata": {},
   "outputs": [],
   "source": [
    "# Year array for later\n",
    "years = [\"2017\", \"2018\", \"2019\", \"2020\", \"2021\", \"2022\"]\n",
    "\n",
    "# Rename naics for uniformity\n",
    "df.rename(columns={\"IndustryClassification\": \"naics\"}, inplace=True)\n",
    "\n",
    "# Define redundant cols\n",
    "redundant_to_drop = [\"GeoName\", \"Region\", \"TableName\", \"LineCode\", \"Description\", \"Unit\"]\n",
    "cols_to_drop = redundant_to_drop\n",
    "\n",
    "# Define naics values to inspect\n",
    "naics_filter = [\"11\", \"21\", \"22\", \"23\", \"31-33\"]\n",
    "mask = df[\"naics\"].isin(naics_filter)\n",
    "\n",
    "# Define unknown and globals\n",
    "fips_filter = [\"0\", \"999$\"]\n",
    "fips_filter = \"|\".join(fips_filter)"
   ]
  },
  {
   "cell_type": "code",
   "execution_count": null,
   "metadata": {},
   "outputs": [],
   "source": [
    "# Process\n",
    "df = df.drop(cols_to_drop, axis=1)\n",
    "df = df.dropna(subset=years, how=\"all\")\n",
    "df = df[~df[\"FIPS\"].astype(str).str.contains(fips_filter)]\n",
    "df = df.loc[mask]\n",
    "df = df[df[\"2022\"] != 0]\n",
    "\n",
    "df = df.sort_values(by=[\"2022\"], ascending=False)"
   ]
  },
  {
   "cell_type": "code",
   "execution_count": null,
   "metadata": {},
   "outputs": [],
   "source": [
    "df_group_naics = df.groupby([\"naics\"])[years].sum()\n",
    "df_group_fips = df.groupby([\"FIPS\"])[years].sum()\n",
    "\n",
    "df_group_naics = df_group_naics.sort_values(by=[\"2022\"], ascending=False)\n",
    "df_group_fips = df_group_fips.sort_values(by=[\"2022\"], ascending=False)"
   ]
  },
  {
   "cell_type": "markdown",
   "metadata": {},
   "source": [
    "## Plotting GPD\n",
    "\n",
    "- [x] Visualize growth\n",
    "- [ ] Normalize data"
   ]
  },
  {
   "cell_type": "code",
   "execution_count": null,
   "metadata": {},
   "outputs": [],
   "source": [
    "import matplotlib.pyplot as plt\n",
    "from matplotlib.ticker import FuncFormatter\n",
    "\n",
    "df_transposed = df_group_naics.T\n",
    "\n",
    "def gdp_formatter(value, pos):\n",
    "    \"\"\"Format millions to a shorter version\"\"\"\n",
    "    return f\"{value / 1e6:.1f}M\"\n",
    "\n",
    "# Plotting\n",
    "df_transposed.plot(kind='line', marker='o', figsize=(10, 6))\n",
    "\n",
    "plt.gca().yaxis.set_major_formatter(FuncFormatter(gdp_formatter))\n",
    "\n",
    "# Adding titles and labels\n",
    "plt.title('GDP of NAICS Codes Over the Years')\n",
    "plt.xlabel('Year')\n",
    "plt.ylabel('GDP')\n",
    "plt.legend(title='NAICS Code')\n",
    "\n",
    "# Show the plot\n",
    "plt.show()"
   ]
  },
  {
   "cell_type": "code",
   "execution_count": null,
   "metadata": {},
   "outputs": [],
   "source": [
    "import matplotlib.pyplot as plt\n",
    "from matplotlib.ticker import FuncFormatter\n",
    "\n",
    "fips_five = df_group_fips.iloc[:10]\n",
    "df_transposed = fips_five.T\n",
    "\n",
    "# Plotting\n",
    "df_transposed.plot(kind='line', marker='o', figsize=(10, 6))\n",
    "\n",
    "# Convert the Y-axis for readability\n",
    "plt.gca().yaxis.set_major_formatter(FuncFormatter(gdp_formatter))\n",
    "\n",
    "# Adding titles and labels\n",
    "plt.title('GDP of FIPS Codes Over the Years')\n",
    "plt.xlabel('Year')\n",
    "plt.ylabel('GDP')\n",
    "plt.legend(title='FIPS Code')\n",
    "\n",
    "# Show the plot\n",
    "plt.show()"
   ]
  }
 ],
 "metadata": {
  "kernelspec": {
   "display_name": ".venv",
   "language": "python",
   "name": "python3"
  },
  "language_info": {
   "codemirror_mode": {
    "name": "ipython",
    "version": 3
   },
   "file_extension": ".py",
   "mimetype": "text/x-python",
   "name": "python",
   "nbconvert_exporter": "python",
   "pygments_lexer": "ipython3",
   "version": "3.9.5"
  }
 },
 "nbformat": 4,
 "nbformat_minor": 2
}
