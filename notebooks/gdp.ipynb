{
 "cells": [
  {
   "cell_type": "code",
   "execution_count": 318,
   "metadata": {},
   "outputs": [],
   "source": [
    "import pickle\n",
    "import pandas as pd\n",
    "pd.set_option('display.width', 1000)\n",
    "\n",
    "with open(\"../data/raw/gdp.pkl\", \"rb\") as file:\n",
    "  df = pickle.load(file)"
   ]
  },
  {
   "cell_type": "code",
   "execution_count": 319,
   "metadata": {},
   "outputs": [],
   "source": [
    "# Rename naics for uniformity\n",
    "df.rename(columns={\"IndustryClassification\": \"naics\", \"2022\": \"gdp\"}, inplace=True)\n",
    "\n",
    "# Define redundant cols\n",
    "redundant_cols = [\"Region\", \"TableName\", \"LineCode\", \"Unit\"]\n",
    "years = [\"2017\", \"2018\", \"2019\", \"2020\", \"2021\"]\n",
    "cols_to_drop = redundant_cols + years\n",
    "\n",
    "# FIPS filter for \"globals\" and unknown counties\n",
    "fips_filter = \"|\".join([\"^0\", \"0$\", \"999$\"])\n",
    "\n",
    "# NAICS filter for intereseting codes for our purpose\n",
    "naics_filter = \"|\".join([\"^11\", \"^21\", \"^22\", \"^23\", \"^31\", \"^32\", \"^33\"])"
   ]
  },
  {
   "cell_type": "code",
   "execution_count": 320,
   "metadata": {},
   "outputs": [],
   "source": [
    "# Drop cols\n",
    "df = df.drop(cols_to_drop, axis=1)\n",
    "\n",
    "# Drop FIPS\n",
    "df = df.loc[df[\"FIPS\"] < 90000]\n",
    "df = df.loc[~df[\"FIPS\"].astype(str).str.contains(fips_filter)]\n",
    "\n",
    "# Drop NAICS\n",
    "df = df.loc[df[\"naics\"].str.contains(naics_filter)]"
   ]
  },
  {
   "cell_type": "code",
   "execution_count": 321,
   "metadata": {},
   "outputs": [],
   "source": [
    "# Group for naics and fips\n",
    "df_group_naics = df.groupby([\"naics\"])[\"gdp\"].sum()\n",
    "df_group_fips = df.groupby([\"FIPS\"])[\"gdp\"].sum()\n",
    "\n",
    "# Series to DataFrame\n",
    "df_group_naics = df_group_naics.reset_index()\n",
    "df_group_fips = df_group_fips.reset_index()\n",
    "\n",
    "# Rename the corresponding gdp cols\n",
    "df_group_naics.rename(columns={\"gdp\": \"gdp_naics\"}, inplace=True)\n",
    "df_group_fips.rename(columns={\"gdp\": \"gdp_fips\"}, inplace=True)"
   ]
  },
  {
   "cell_type": "code",
   "execution_count": 325,
   "metadata": {},
   "outputs": [],
   "source": [
    "# Join new frames\n",
    "df_conc = pd.merge(df, df_group_naics, on=\"naics\", how=\"inner\")\n",
    "df_conc = pd.merge(df_conc, df_group_fips, on=\"FIPS\", how=\"inner\")"
   ]
  },
  {
   "cell_type": "code",
   "execution_count": 326,
   "metadata": {},
   "outputs": [],
   "source": [
    "with open(\"../data/processed/gdp.pkl\", \"wb\") as handle:\n",
    "  pickle.dump(df_conc, handle, protocol=pickle.HIGHEST_PROTOCOL)"
   ]
  }
 ],
 "metadata": {
  "kernelspec": {
   "display_name": ".venv",
   "language": "python",
   "name": "python3"
  },
  "language_info": {
   "codemirror_mode": {
    "name": "ipython",
    "version": 3
   },
   "file_extension": ".py",
   "mimetype": "text/x-python",
   "name": "python",
   "nbconvert_exporter": "python",
   "pygments_lexer": "ipython3",
   "version": "3.12.4"
  }
 },
 "nbformat": 4,
 "nbformat_minor": 2
}
