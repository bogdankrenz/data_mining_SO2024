{
 "cells": [
  {
   "cell_type": "markdown",
   "metadata": {},
   "source": [
    "# Data Preprocessing\n"
   ]
  },
  {
   "cell_type": "markdown",
   "metadata": {},
   "source": [
    "## Preperation\n",
    "\n",
    "Import packages and set globals\n"
   ]
  },
  {
   "cell_type": "code",
   "execution_count": 87,
   "metadata": {},
   "outputs": [],
   "source": [
    "import pandas as pd\n",
    "import numpy as np\n",
    "from sklearn.preprocessing import StandardScaler\n",
    "\n",
    "pd.set_option(\"display.width\", 1000)\n",
    "pd.set_option(\"display.max_columns\", None)\n",
    "pd.options.display.float_format = \"{:.2f}\".format"
   ]
  },
  {
   "cell_type": "code",
   "execution_count": 88,
   "metadata": {},
   "outputs": [],
   "source": [
    "gdp_df = pd.read_pickle(\"../data/raw/gdp.pkl\")\n",
    "occ_df = pd.read_pickle(\"../data/raw/naics_occupation.pkl\")\n",
    "ptn_df = pd.read_pickle(\"../data/raw/naics_pattern.pkl\")\n",
    "\n",
    "top_df = pd.read_pickle(\"../data/processed/top_picks.pkl\")"
   ]
  },
  {
   "cell_type": "code",
   "execution_count": 89,
   "metadata": {},
   "outputs": [
    {
     "data": {
      "text/html": [
       "<div>\n",
       "<style scoped>\n",
       "    .dataframe tbody tr th:only-of-type {\n",
       "        vertical-align: middle;\n",
       "    }\n",
       "\n",
       "    .dataframe tbody tr th {\n",
       "        vertical-align: top;\n",
       "    }\n",
       "\n",
       "    .dataframe thead th {\n",
       "        text-align: right;\n",
       "    }\n",
       "</style>\n",
       "<table border=\"1\" class=\"dataframe\">\n",
       "  <thead>\n",
       "    <tr style=\"text-align: right;\">\n",
       "      <th></th>\n",
       "      <th>naics</th>\n",
       "      <th>occ</th>\n",
       "    </tr>\n",
       "  </thead>\n",
       "  <tbody>\n",
       "    <tr>\n",
       "      <th>0</th>\n",
       "      <td>3363</td>\n",
       "      <td>51-4031</td>\n",
       "    </tr>\n",
       "    <tr>\n",
       "      <th>1</th>\n",
       "      <td>3364</td>\n",
       "      <td>51-4121</td>\n",
       "    </tr>\n",
       "    <tr>\n",
       "      <th>2</th>\n",
       "      <td>3327</td>\n",
       "      <td>51-4031</td>\n",
       "    </tr>\n",
       "    <tr>\n",
       "      <th>3</th>\n",
       "      <td>3330A1</td>\n",
       "      <td>51-4081</td>\n",
       "    </tr>\n",
       "    <tr>\n",
       "      <th>4</th>\n",
       "      <td>3320A2</td>\n",
       "      <td>17-2112</td>\n",
       "    </tr>\n",
       "  </tbody>\n",
       "</table>\n",
       "</div>"
      ],
      "text/plain": [
       "    naics      occ\n",
       "0    3363  51-4031\n",
       "1    3364  51-4121\n",
       "2    3327  51-4031\n",
       "3  3330A1  51-4081\n",
       "4  3320A2  17-2112"
      ]
     },
     "execution_count": 89,
     "metadata": {},
     "output_type": "execute_result"
    }
   ],
   "source": [
    "top_df"
   ]
  },
  {
   "cell_type": "markdown",
   "metadata": {},
   "source": [
    "## Filtering\n",
    "\n",
    "Filters are based on previous research within the DataFrames (Step 2)\n",
    "\n",
    "Establish filter:\n",
    "\n",
    "- NAIC\n",
    "- Rough NAICS (for gdp)\n",
    "- FIPS\n",
    "- OCC\n"
   ]
  },
  {
   "cell_type": "code",
   "execution_count": 90,
   "metadata": {},
   "outputs": [],
   "source": [
    "naics_filter = top_df[\"naics\"]\n",
    "naics_rough_filter = [\"321,327-339\"]\n",
    "\n",
    "fips_filter_inverse = [\"0$\"]\n",
    "fips_filter_inverse = \"|\".join(fips_filter_inverse)\n",
    "\n",
    "occ_filter = top_df[\"occ\"]"
   ]
  },
  {
   "cell_type": "markdown",
   "metadata": {},
   "source": [
    "Apply filters\n"
   ]
  },
  {
   "cell_type": "code",
   "execution_count": 91,
   "metadata": {},
   "outputs": [],
   "source": [
    "# NAICS\n",
    "gdp_df = gdp_df[gdp_df[\"IndustryClassification\"].isin(naics_rough_filter)]\n",
    "occ_df = occ_df[occ_df[\"naics\"].isin(naics_filter)]\n",
    "ptn_df = ptn_df[ptn_df[\"naics\"].isin(naics_filter)]\n",
    "\n",
    "# FIPS\n",
    "gdp_df = gdp_df[~gdp_df[\"FIPS\"].astype(str).str.contains(fips_filter_inverse)]\n",
    "occ_df = occ_df[~occ_df[\"FIPS\"].astype(str).str.contains(fips_filter_inverse)]\n",
    "ptn_df = ptn_df[~ptn_df[\"FIPS\"].astype(str).str.contains(fips_filter_inverse)]\n",
    "\n",
    "# OCC\n",
    "occ_df = occ_df[occ_df[\"OCC_CODE\"].isin(occ_filter)]"
   ]
  },
  {
   "cell_type": "markdown",
   "metadata": {},
   "source": [
    "### Drop Features\n"
   ]
  },
  {
   "cell_type": "code",
   "execution_count": 92,
   "metadata": {},
   "outputs": [],
   "source": [
    "cols_to_drop_gdp = [\"GeoName\", \"Region\", \"TableName\", \"LineCode\", \"Description\", \"Unit\"]\n",
    "cols_to_drop_occ = [\"State_GEOID\", \"NAICS_TITLE\", \"OCC_TITLE\"]\n",
    "cols_to_drop_pat = [\n",
    "    \"State_GEOID\",\n",
    "    \"County_GEOID\",\n",
    "    \"naics_2\",\n",
    "    \"DESCRIPTION\",\n",
    "    \"emp_nf\",\n",
    "    \"emp\",\n",
    "    \"qp1_nf\",\n",
    "    \"qp1\",\n",
    "    \"ap_nf\",\n",
    "    \"n<5\",\n",
    "    \"n5_9\",\n",
    "    \"n10_19\",\n",
    "    \"n20_49\",\n",
    "    \"n50_99\",\n",
    "    \"n100_249\",\n",
    "    \"n250_499\",\n",
    "    \"n500_999\",\n",
    "    \"n1000\",\n",
    "    \"n1000_1\",\n",
    "    \"n1000_2\",\n",
    "    \"n1000_3\",\n",
    "    \"n1000_4\",\n",
    "]"
   ]
  },
  {
   "cell_type": "code",
   "execution_count": 93,
   "metadata": {},
   "outputs": [],
   "source": [
    "gdp_df = gdp_df.drop(cols_to_drop_gdp, axis=1)\n",
    "occ_df = occ_df.drop(cols_to_drop_occ, axis=1)\n",
    "ptn_df = ptn_df.drop(cols_to_drop_pat, axis=1)"
   ]
  },
  {
   "cell_type": "markdown",
   "metadata": {},
   "source": [
    "### Aggregate Duplicate Data\n"
   ]
  },
  {
   "cell_type": "code",
   "execution_count": 94,
   "metadata": {},
   "outputs": [],
   "source": [
    "ptn_df = ptn_df.groupby([\"FIPS\", \"naics\"])[[\"ap\", \"est\"]].sum().reset_index()"
   ]
  },
  {
   "cell_type": "markdown",
   "metadata": {},
   "source": [
    "## Feature Engineering\n"
   ]
  },
  {
   "cell_type": "code",
   "execution_count": 95,
   "metadata": {},
   "outputs": [],
   "source": [
    "master_df = pd.DataFrame()"
   ]
  },
  {
   "cell_type": "code",
   "execution_count": 96,
   "metadata": {},
   "outputs": [],
   "source": [
    "gdp_df = gdp_df.sort_values(by=\"FIPS\", ascending=True).reset_index(drop=True)\n",
    "occ_df = occ_df.sort_values(by=\"FIPS\", ascending=True).reset_index(drop=True)\n",
    "ptn_df = ptn_df.sort_values(by=\"FIPS\", ascending=True).reset_index(drop=True)"
   ]
  },
  {
   "cell_type": "markdown",
   "metadata": {},
   "source": [
    "### FIPS\n"
   ]
  },
  {
   "cell_type": "code",
   "execution_count": 97,
   "metadata": {},
   "outputs": [],
   "source": [
    "# FIPS\n",
    "master_df[\"FIPS\"] = gdp_df[\"FIPS\"].unique()"
   ]
  },
  {
   "cell_type": "markdown",
   "metadata": {},
   "source": [
    "### OCC\n"
   ]
  },
  {
   "cell_type": "code",
   "execution_count": 98,
   "metadata": {},
   "outputs": [],
   "source": [
    "# OCCs NAICS1\n",
    "for index, element in enumerate(top_df[\"occ\"]):\n",
    "    occ_emp = occ_df[occ_df[\"OCC_CODE\"] == element]\n",
    "    occ_emp = occ_emp[occ_emp[\"naics\"] == top_df[\"naics\"][0]]\n",
    "\n",
    "    master_df = pd.merge(\n",
    "        master_df, occ_emp[[\"FIPS\", \"emp_occupation\"]], on=\"FIPS\", how=\"left\"\n",
    "    )\n",
    "    master_df = master_df.rename({\"emp_occupation\": f\"naics1_occ{index+1}\"}, axis=1)"
   ]
  },
  {
   "cell_type": "code",
   "execution_count": 99,
   "metadata": {},
   "outputs": [],
   "source": [
    "occ_rest = occ_df[occ_df[\"naics\"] != top_df[\"naics\"][0]]\n",
    "\n",
    "# 1-3OCCs NAICS2-5\n",
    "occ_emp_rest = occ_rest[occ_rest[\"OCC_CODE\"].isin(top_df[\"occ\"][:3])]\n",
    "occ_emp_rest = occ_emp_rest.groupby(\"FIPS\")[\"emp_occupation\"].sum().reset_index()\n",
    "\n",
    "master_df = pd.merge(master_df, occ_emp_rest, on=\"FIPS\", how=\"left\")\n",
    "master_df = master_df.rename({\"emp_occupation\": \"naics2-5_occ1-3\"}, axis=1)"
   ]
  },
  {
   "cell_type": "code",
   "execution_count": 100,
   "metadata": {},
   "outputs": [],
   "source": [
    "# 4-5OCCs NAICS2-5\n",
    "occ_emp_rest = occ_rest[occ_rest[\"OCC_CODE\"].isin(top_df[\"occ\"][3:])]\n",
    "occ_emp_rest = occ_emp_rest.groupby(\"FIPS\")[\"emp_occupation\"].sum().reset_index()\n",
    "\n",
    "master_df = pd.merge(master_df, occ_emp_rest, on=\"FIPS\", how=\"left\")\n",
    "master_df = master_df.rename({\"emp_occupation\": \"naics2-5_occ4-5\"}, axis=1)"
   ]
  },
  {
   "cell_type": "markdown",
   "metadata": {},
   "source": [
    "### Est\n"
   ]
  },
  {
   "cell_type": "code",
   "execution_count": 101,
   "metadata": {},
   "outputs": [],
   "source": [
    "# ESTs NAICS1\n",
    "est_naicsx = ptn_df[ptn_df[\"naics\"] == top_df[\"naics\"][0]]\n",
    "\n",
    "master_df = pd.merge(master_df, est_naicsx[[\"FIPS\", \"est\"]], on=\"FIPS\", how=\"left\")\n",
    "master_df = master_df.rename({\"est\": \"naics1_est\"}, axis=1)\n",
    "\n",
    "# ESTs NAICS2-5\n",
    "est_naicsx = ptn_df[ptn_df[\"naics\"].isin(top_df[\"naics\"][1:])]\n",
    "est_naicsx = est_naicsx.groupby(\"FIPS\")[\"est\"].mean().reset_index()\n",
    "\n",
    "master_df = pd.merge(master_df, est_naicsx[[\"FIPS\", \"est\"]], on=\"FIPS\", how=\"left\")\n",
    "master_df = master_df.rename({\"est\": \"naics2-5_est\"}, axis=1)"
   ]
  },
  {
   "cell_type": "markdown",
   "metadata": {},
   "source": [
    "### Payment\n"
   ]
  },
  {
   "cell_type": "code",
   "execution_count": 102,
   "metadata": {},
   "outputs": [],
   "source": [
    "# AP NAICS1\n",
    "ap_naicsx = ptn_df[ptn_df[\"naics\"] == top_df[\"naics\"][0]]\n",
    "\n",
    "master_df = pd.merge(master_df, ap_naicsx[[\"FIPS\", \"ap\"]], on=\"FIPS\", how=\"left\")\n",
    "master_df = master_df.rename({\"ap\": \"naics1_ap\"}, axis=1)\n",
    "\n",
    "# AP NAICS2-5\n",
    "ap_naicsx = ptn_df[ptn_df[\"naics\"].isin(top_df[\"naics\"][1:])]\n",
    "ap_naicsx = ap_naicsx.groupby(\"FIPS\")[\"ap\"].mean().reset_index()\n",
    "\n",
    "master_df = pd.merge(master_df, ap_naicsx[[\"FIPS\", \"ap\"]], on=\"FIPS\", how=\"left\")\n",
    "master_df = master_df.rename({\"ap\": \"naics2-5_ap\"}, axis=1)"
   ]
  },
  {
   "cell_type": "markdown",
   "metadata": {},
   "source": [
    "### GDP\n"
   ]
  },
  {
   "cell_type": "code",
   "execution_count": 103,
   "metadata": {},
   "outputs": [],
   "source": [
    "# MEAN GDP\n",
    "gdp_df[\"newest_gdp\"] = (\n",
    "    gdp_df[[\"2017\", \"2018\", \"2019\", \"2020\", \"2021\", \"2022\"]].ffill(axis=1).iloc[:, -1]\n",
    ")\n",
    "\n",
    "master_df = pd.merge(master_df, gdp_df[[\"FIPS\", \"newest_gdp\"]], on=\"FIPS\", how=\"left\")"
   ]
  },
  {
   "cell_type": "markdown",
   "metadata": {},
   "source": [
    "### Cleanup\n"
   ]
  },
  {
   "cell_type": "code",
   "execution_count": 104,
   "metadata": {},
   "outputs": [],
   "source": [
    "# Remove NAs\n",
    "master_df = master_df.fillna(0)\n",
    "\n",
    "# Round Employment Numbers\n",
    "cols_to_round = master_df.columns[1:7]\n",
    "master_df[cols_to_round] = np.ceil(master_df[cols_to_round])\n",
    "\n",
    "# Set FIPS as indicator\n",
    "master_df = master_df.set_index(\"FIPS\")\n",
    "\n",
    "# Change Types for Uniformity\n",
    "cols_to_change_dtype = master_df.columns\n",
    "master_df[cols_to_change_dtype] = master_df[cols_to_change_dtype].astype(int)"
   ]
  },
  {
   "cell_type": "markdown",
   "metadata": {},
   "source": [
    "## Norm/Scale\n"
   ]
  },
  {
   "cell_type": "code",
   "execution_count": 105,
   "metadata": {},
   "outputs": [],
   "source": [
    "scaler = StandardScaler()\n",
    "\n",
    "master_df_scaled = master_df.copy()\n",
    "\n",
    "master_df_scaled[master_df.columns] = scaler.fit_transform(master_df[master_df.columns])"
   ]
  },
  {
   "cell_type": "markdown",
   "metadata": {},
   "source": [
    "## Export\n"
   ]
  },
  {
   "cell_type": "code",
   "execution_count": 106,
   "metadata": {},
   "outputs": [
    {
     "name": "stdout",
     "output_type": "stream",
     "text": [
      "       naics1_occ1  naics1_occ2  naics1_occ3  naics1_occ4  naics1_occ5  naics2-5_occ1-3  naics2-5_occ4-5  naics1_est  naics2-5_est  naics1_ap  naics2-5_ap  newest_gdp\n",
      "FIPS                                                                                                                                                                  \n",
      "1001             0            0            0            0            0                0                0           0             0          0            0       72611\n",
      "1003             0            0            0            0            0              115              133           0             9          0        22116      487152\n",
      "1005             0            0            0            0            0                0                0           0             0          0            0       85451\n",
      "1007             0            0            0            0            0                2                0           0             3          0          835       63767\n",
      "1009             0            0            0            0            0               38                5           0             6          0         3333       53999\n",
      "...            ...          ...          ...          ...          ...              ...              ...         ...           ...        ...          ...         ...\n",
      "56037            0            0            0            0            0                3                0           0             3          0          510       13374\n",
      "56039            0            0            0            0            0               13                0           0             3          0          988       16092\n",
      "56041            0            0            0            0            0                0                0           0             0          0            0       15856\n",
      "56043            0            0            0            0            0                0                0           0             0          0            0       11946\n",
      "56045            0            0            0            0            0                0                0           0             0          0            0           0\n",
      "\n",
      "[3089 rows x 12 columns]\n"
     ]
    }
   ],
   "source": [
    "print(master_df)"
   ]
  },
  {
   "cell_type": "code",
   "execution_count": 107,
   "metadata": {},
   "outputs": [],
   "source": [
    "pd.to_pickle(master_df, \"../data/processed/master_df.pkl\")\n",
    "pd.to_pickle(master_df_scaled, \"../data/processed/master_df_scaled.pkl\")"
   ]
  }
 ],
 "metadata": {
  "kernelspec": {
   "display_name": "Python 3 (ipykernel)",
   "language": "python",
   "name": "python3"
  },
  "language_info": {
   "codemirror_mode": {
    "name": "ipython",
    "version": 3
   },
   "file_extension": ".py",
   "mimetype": "text/x-python",
   "name": "python",
   "nbconvert_exporter": "python",
   "pygments_lexer": "ipython3",
   "version": "3.12.2"
  }
 },
 "nbformat": 4,
 "nbformat_minor": 4
}
