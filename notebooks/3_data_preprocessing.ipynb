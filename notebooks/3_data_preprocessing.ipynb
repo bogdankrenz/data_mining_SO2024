{
 "cells": [
  {
   "cell_type": "markdown",
   "metadata": {},
   "source": [
    "# Data Preprocessing\n",
    "\n",
    "## Preperation\n",
    "\n",
    "Import packages and set globals"
   ]
  },
  {
   "cell_type": "code",
   "execution_count": 1,
   "metadata": {},
   "outputs": [],
   "source": [
    "import pandas as pd\n",
    "import numpy as np\n",
    "import seaborn as sns\n",
    "import matplotlib.pyplot as plt\n",
    "\n",
    "pd.set_option(\"display.width\", 1000)\n",
    "pd.set_option(\"display.max_columns\", None)\n",
    "pd.options.display.float_format = \"{:.2f}\".format\n",
    "\n",
    "%matplotlib inline\n",
    "plt.rcParams[\"figure.figsize\"] = (20, 6)"
   ]
  },
  {
   "cell_type": "markdown",
   "metadata": {},
   "source": [
    "Importing the pickle files"
   ]
  },
  {
   "cell_type": "code",
   "execution_count": 2,
   "metadata": {},
   "outputs": [],
   "source": [
    "gdpDf = pd.read_pickle(\"../data/raw/gdp.pkl\")\n",
    "occDf = pd.read_pickle(\"../data/raw/naics_occupation.pkl\")\n",
    "patDf = pd.read_pickle(\"../data/raw/naics_pattern.pkl\")"
   ]
  },
  {
   "cell_type": "markdown",
   "metadata": {},
   "source": [
    "## Filtering\n",
    "\n",
    "Filters are based on previous research within the DataFrames (Step 2)\n",
    "\n",
    "Establish filter:\n",
    "\n",
    "- NAIC\n",
    "- Rough NAICS (for gdp)\n",
    "- FIPS\n",
    "- OCC"
   ]
  },
  {
   "cell_type": "code",
   "execution_count": 3,
   "metadata": {},
   "outputs": [],
   "source": [
    "naics_filter = [\"2381\", \"3311\", \"3330A1\", \"3361\", \"3363\"]\n",
    "naics_rough_filter = [\"23\", \"321,327-339\"]\n",
    "\n",
    "fips_filter_inverse = [\"0\", \"$999\"]\n",
    "fips_filter_inverse = \"|\".join(fips_filter_inverse)\n",
    "\n",
    "occ_filter = [\"51-4121\", \"51-4031\", \"51-4041\", \"49-9071\", \"51-2031\"]"
   ]
  },
  {
   "cell_type": "markdown",
   "metadata": {},
   "source": [
    "Apply filters"
   ]
  },
  {
   "cell_type": "code",
   "execution_count": 4,
   "metadata": {},
   "outputs": [],
   "source": [
    "# NAICS\n",
    "gdpDf = gdpDf[gdpDf[\"IndustryClassification\"].isin(naics_rough_filter)]\n",
    "occDf = occDf[occDf[\"naics\"].isin(naics_filter)]\n",
    "patDf = patDf[patDf[\"naics\"].isin(naics_filter)]\n",
    "\n",
    "# FIPS\n",
    "gdpDf = gdpDf[~gdpDf[\"FIPS\"].astype(str).str.contains(fips_filter_inverse)]\n",
    "occDf = occDf[~occDf[\"FIPS\"].astype(str).str.contains(fips_filter_inverse)]\n",
    "patDf = patDf[~patDf[\"FIPS\"].astype(str).str.contains(fips_filter_inverse)]\n",
    "\n",
    "# OCC\n",
    "occDf = occDf[occDf[\"OCC_CODE\"].isin(occ_filter)]"
   ]
  },
  {
   "cell_type": "markdown",
   "metadata": {},
   "source": [
    "## Drop Columns\n",
    "\n",
    "The final \"master Frame\" should contain the following features:\n",
    "\n",
    "- fips\n",
    "- naics\n",
    "- mean_gdp\n",
    "- emp_total_county_naics\n",
    "- emp_total_county_naics_top5_occ\n",
    "- occ_code\n",
    "- emp_occupation\n",
    "- ap\n",
    "- ap_top5_occ\n",
    "- est"
   ]
  },
  {
   "cell_type": "markdown",
   "metadata": {},
   "source": [
    "Establish arrays of features that should be dropped"
   ]
  },
  {
   "cell_type": "code",
   "execution_count": 5,
   "metadata": {},
   "outputs": [],
   "source": [
    "cols_to_drop_gdp = [\"GeoName\", \"Region\", \"TableName\", \"LineCode\", \"Description\", \"Unit\"]\n",
    "cols_to_drop_occ = [\"State_GEOID\", \"NAICS_TITLE\", \"OCC_TITLE\"]\n",
    "cols_to_drop_pat = [\"State_GEOID\", \"County_GEOID\", \"naics_2\", \"DESCRIPTION\", \"emp_nf\", \"emp\", \"qp1_nf\", \"qp1\", \"n<5\", \"n5_9\", \"n10_19\", \"n20_49\", \"n50_99\", \"n100_249\", \"n250_499\", \"n500_999\", \"n1000\", \"n1000_1\", \"n1000_2\", \"n1000_3\", \"n1000_4\"]"
   ]
  },
  {
   "cell_type": "code",
   "execution_count": 6,
   "metadata": {},
   "outputs": [],
   "source": [
    "gdpDf = gdpDf.drop(cols_to_drop_gdp, axis=1)\n",
    "occDf = occDf.drop(cols_to_drop_occ, axis=1)\n",
    "patDf = patDf.drop(cols_to_drop_pat, axis=1)"
   ]
  },
  {
   "cell_type": "markdown",
   "metadata": {},
   "source": [
    "## New Features\n",
    "\n",
    "Features that need to be created:\n",
    "\n",
    "- mean_gdp\n",
    "- IndustryClassification for occ/pattern to merge gdp\n",
    "- emp_total_county_naics_top5_occ\n",
    "    Total of employees in county for naics (based on our top 5 occupations)\n",
    "- ap_top5_occ\n",
    "    Broken down (AP/emp_total_county_naics) * emp_total_county_naics_top5_occ\n",
    "\n",
    "And aggregate pattern duplicates\n",
    "\n",
    "### Mean GDP"
   ]
  },
  {
   "cell_type": "code",
   "execution_count": 7,
   "metadata": {},
   "outputs": [],
   "source": [
    "years = [\"2017\", \"2018\", \"2019\", \"2020\", \"2021\", \"2022\"]\n",
    "\n",
    "gdpDf[\"mean_gdp\"] = gdpDf[years].mean(axis=1)\n",
    "\n",
    "# Drop Rest\n",
    "gdpDf = gdpDf.drop(years, axis=1)"
   ]
  },
  {
   "cell_type": "markdown",
   "metadata": {},
   "source": [
    "### IndustryClassification"
   ]
  },
  {
   "cell_type": "code",
   "execution_count": 8,
   "metadata": {},
   "outputs": [],
   "source": [
    "# Compress NAICS functions\n",
    "def map_naics_code(naics_code):\n",
    "  code_prefix = int(naics_code[:3])\n",
    "\n",
    "  if code_prefix < 310: \n",
    "    return str(code_prefix)[:2]\n",
    "  else:\n",
    "    if code_prefix == 321 or ( 327 <= code_prefix <= 339):\n",
    "      return \"321,327-339\"\n",
    "    elif (311 <=code_prefix <= 316) or (322 <= code_prefix <= 326):\n",
    "      return \"311-316,322-326\"\n",
    "    else:\n",
    "      return \"31-33\"\n",
    "\n",
    "# Apply function\n",
    "occDf[\"IndustryClassification\"] = occDf[\"naics\"].apply(map_naics_code)\n",
    "patDf[\"IndustryClassification\"] = patDf[\"naics\"].apply(map_naics_code)"
   ]
  },
  {
   "cell_type": "markdown",
   "metadata": {},
   "source": [
    "### Aggregate Pattern Duplicates"
   ]
  },
  {
   "cell_type": "code",
   "execution_count": 9,
   "metadata": {},
   "outputs": [],
   "source": [
    "def agg_noise(nf):\n",
    "  weight = {\"G\": 1, \"H\": 2, \"J\": 3}\n",
    "\n",
    "  return max(nf, key=lambda letter: weight[letter])\n",
    "\n",
    "patDf = patDf.groupby([\"FIPS\", \"naics\", \"IndustryClassification\"]).agg({\n",
    "  \"ap_nf\": agg_noise,\n",
    "  \"ap\": \"sum\",\n",
    "  \"est\": \"sum\",\n",
    "}).reset_index()"
   ]
  },
  {
   "cell_type": "markdown",
   "metadata": {},
   "source": [
    "### Emp Total County NAICS based on Top 5 Occupations"
   ]
  },
  {
   "cell_type": "code",
   "execution_count": 10,
   "metadata": {},
   "outputs": [],
   "source": [
    "emp_top5 = occDf.groupby([\"FIPS\", \"naics\"])[\"emp_occupation\"].sum().reset_index()"
   ]
  },
  {
   "cell_type": "code",
   "execution_count": 11,
   "metadata": {},
   "outputs": [],
   "source": [
    "emp_top5 = emp_top5.rename({\"emp_occupation\": \"emp_total_county_naics_top5_occ\"}, axis=1)\n",
    "\n",
    "occDf = pd.merge(occDf, emp_top5, on=[\"FIPS\", \"naics\"])"
   ]
  },
  {
   "cell_type": "markdown",
   "metadata": {},
   "source": [
    "### Annual Pay per Person in Top 5 OCC\n",
    "\n",
    "***as*** as in annual salary"
   ]
  },
  {
   "cell_type": "code",
   "execution_count": 12,
   "metadata": {},
   "outputs": [],
   "source": [
    "masterFrame = pd.merge(occDf, patDf, on=[\"FIPS\", \"naics\", \"IndustryClassification\"])"
   ]
  },
  {
   "cell_type": "code",
   "execution_count": 13,
   "metadata": {},
   "outputs": [],
   "source": [
    "masterFrame[\"as\"] = masterFrame[\"ap\"] / masterFrame[\"emp_total_county_naics\"]\n",
    "masterFrame[\"as_top5\"] = masterFrame[\"as\"] * masterFrame[\"emp_total_county_naics_top5_occ\"]"
   ]
  },
  {
   "cell_type": "markdown",
   "metadata": {},
   "source": [
    "## Merging\n",
    "\n",
    "As occupation and pattern was already merged we just need to add gdp"
   ]
  },
  {
   "cell_type": "code",
   "execution_count": 14,
   "metadata": {},
   "outputs": [],
   "source": [
    "masterFrame = pd.merge(masterFrame, gdpDf, on=[\"FIPS\", \"IndustryClassification\"])"
   ]
  },
  {
   "cell_type": "markdown",
   "metadata": {},
   "source": [
    "## Cleanup\n",
    "\n",
    "- Drop IndustryClassificationas it was only used for merging\n",
    "- Reorder columns\n",
    "- Sort in order of FIPS -> NAICS -> OCC_CODE"
   ]
  },
  {
   "cell_type": "code",
   "execution_count": 15,
   "metadata": {},
   "outputs": [],
   "source": [
    "masterFrame = masterFrame.drop([\"IndustryClassification\"], axis=1)"
   ]
  },
  {
   "cell_type": "code",
   "execution_count": 16,
   "metadata": {},
   "outputs": [],
   "source": [
    "master_order = [\"FIPS\", \"naics\", \"mean_gdp\", \"emp_total_county_naics\", \"emp_total_county_naics_top5_occ\", \"ap_nf\", \"ap\", \"est\", \"OCC_CODE\", \"emp_occupation\", \"as\", \"as_top5\"]\n",
    "masterFrame = masterFrame[master_order]"
   ]
  },
  {
   "cell_type": "code",
   "execution_count": 17,
   "metadata": {},
   "outputs": [],
   "source": [
    "masterFrame = masterFrame.sort_values(by=[\"FIPS\", \"naics\", \"OCC_CODE\"], ascending=True).reset_index(drop=True)"
   ]
  },
  {
   "cell_type": "markdown",
   "metadata": {},
   "source": [
    "## Export Master Frame"
   ]
  },
  {
   "cell_type": "code",
   "execution_count": 20,
   "metadata": {},
   "outputs": [
    {
     "name": "stdout",
     "output_type": "stream",
     "text": [
      "       FIPS   naics  mean_gdp  emp_total_county_naics  emp_total_county_naics_top5_occ ap_nf     ap  est OCC_CODE  emp_occupation    as  as_top5\n",
      "0      1111    2381  16958.83                       6                             0.18     J    275    3  49-9071            0.02 45.83     8.33\n",
      "1      1111    2381  16958.83                       6                             0.18     J    275    3  51-4121            0.16 45.83     8.33\n",
      "2      1113    2381  52120.17                      28                             0.94     G    851    7  49-9071            0.14 30.39    28.62\n",
      "3      1113    2381  52120.17                      28                             0.94     G    851    7  51-4031            0.02 30.39    28.62\n",
      "4      1113    2381  52120.17                      28                             0.94     G    851    7  51-4041            0.01 30.39    28.62\n",
      "...     ...     ...       ...                     ...                              ...   ...    ...  ...      ...             ...   ...      ...\n",
      "3711  55141  3330A1 198618.50                     400                           100.61     J  29334    3  49-9071           10.76 73.33  7378.05\n",
      "3712  55141  3330A1 198618.50                     400                           100.61     J  29334    3  51-2031            8.41 73.33  7378.05\n",
      "3713  55141  3330A1 198618.50                     400                           100.61     J  29334    3  51-4031            9.98 73.33  7378.05\n",
      "3714  55141  3330A1 198618.50                     400                           100.61     J  29334    3  51-4041           14.14 73.33  7378.05\n",
      "3715  55141  3330A1 198618.50                     400                           100.61     J  29334    3  51-4121           57.32 73.33  7378.05\n",
      "\n",
      "[3716 rows x 12 columns]\n"
     ]
    }
   ],
   "source": [
    "print(masterFrame)"
   ]
  },
  {
   "cell_type": "code",
   "execution_count": null,
   "metadata": {},
   "outputs": [],
   "source": [
    "pd.to_pickle(masterFrame, \"../data/processed/masterFrame.pkl\")"
   ]
  }
 ],
 "metadata": {
  "kernelspec": {
   "display_name": ".venv",
   "language": "python",
   "name": "python3"
  },
  "language_info": {
   "codemirror_mode": {
    "name": "ipython",
    "version": 3
   },
   "file_extension": ".py",
   "mimetype": "text/x-python",
   "name": "python",
   "nbconvert_exporter": "python",
   "pygments_lexer": "ipython3",
   "version": "3.12.4"
  }
 },
 "nbformat": 4,
 "nbformat_minor": 2
}
