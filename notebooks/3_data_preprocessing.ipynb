{
 "cells": [
  {
   "cell_type": "markdown",
   "metadata": {},
   "source": [
    "# Data Preprocessing\n",
    "\n",
    "## Preperation\n",
    "\n",
    "Import packages and set globals"
   ]
  },
  {
   "cell_type": "code",
   "execution_count": 386,
   "metadata": {},
   "outputs": [],
   "source": [
    "import pandas as pd\n",
    "import numpy as np\n",
    "\n",
    "pd.set_option(\"display.width\", 1000)\n",
    "pd.set_option(\"display.max_columns\", None)\n",
    "pd.options.display.float_format = \"{:.2f}\".format"
   ]
  },
  {
   "cell_type": "markdown",
   "metadata": {},
   "source": [
    "Importing the pickle files"
   ]
  },
  {
   "cell_type": "code",
   "execution_count": 387,
   "metadata": {},
   "outputs": [],
   "source": [
    "gdp_df = pd.read_pickle(\"../data/raw/gdp.pkl\")\n",
    "occ_df = pd.read_pickle(\"../data/raw/naics_occupation.pkl\")\n",
    "ptn_df = pd.read_pickle(\"../data/raw/naics_pattern.pkl\")\n",
    "\n",
    "top_df = pd.read_pickle(\"../data/processed/top_picks.pkl\")"
   ]
  },
  {
   "cell_type": "markdown",
   "metadata": {},
   "source": [
    "## Filtering\n",
    "\n",
    "Filters are based on previous research within the DataFrames (Step 2)\n",
    "\n",
    "Establish filter:\n",
    "\n",
    "- NAIC\n",
    "- Rough NAICS (for gdp)\n",
    "- FIPS\n",
    "- OCC"
   ]
  },
  {
   "cell_type": "code",
   "execution_count": 388,
   "metadata": {},
   "outputs": [],
   "source": [
    "naics_filter = top_df[\"naics\"]\n",
    "naics_rough_filter = [\"321,327-339\"]\n",
    "\n",
    "fips_filter_inverse = [\"0$\", \"999$\"]\n",
    "fips_filter_inverse = \"|\".join(fips_filter_inverse)\n",
    "\n",
    "occ_filter = top_df[\"occ\"]"
   ]
  },
  {
   "cell_type": "markdown",
   "metadata": {},
   "source": [
    "Apply filters"
   ]
  },
  {
   "cell_type": "code",
   "execution_count": 389,
   "metadata": {},
   "outputs": [],
   "source": [
    "# NAICS\n",
    "gdp_df = gdp_df[gdp_df[\"IndustryClassification\"].isin(naics_rough_filter)]\n",
    "occ_df = occ_df[occ_df[\"naics\"].isin(naics_filter)]\n",
    "ptn_df = ptn_df[ptn_df[\"naics\"].isin(naics_filter)]\n",
    "\n",
    "# FIPS\n",
    "gdp_df = gdp_df[~gdp_df[\"FIPS\"].astype(str).str.contains(fips_filter_inverse)]\n",
    "occ_df = occ_df[~occ_df[\"FIPS\"].astype(str).str.contains(fips_filter_inverse)]\n",
    "ptn_df = ptn_df[~ptn_df[\"FIPS\"].astype(str).str.contains(fips_filter_inverse)]\n",
    "\n",
    "# OCC\n",
    "occ_df = occ_df[occ_df[\"OCC_CODE\"].isin(occ_filter)]"
   ]
  },
  {
   "cell_type": "markdown",
   "metadata": {},
   "source": [
    "## Drop Features\n",
    "\n",
    "Establish arrays of features that should be dropped"
   ]
  },
  {
   "cell_type": "code",
   "execution_count": 390,
   "metadata": {},
   "outputs": [],
   "source": [
    "cols_to_drop_gdp = [\"GeoName\", \"Region\", \"TableName\", \"LineCode\", \"Description\", \"Unit\"]\n",
    "cols_to_drop_occ = [\"State_GEOID\", \"NAICS_TITLE\", \"OCC_TITLE\"]\n",
    "cols_to_drop_pat = [\"State_GEOID\", \"County_GEOID\", \"naics_2\", \"DESCRIPTION\", \"emp_nf\", \"emp\", \"qp1_nf\", \"qp1\", \"ap_nf\", \"n<5\", \"n5_9\", \"n10_19\", \"n20_49\", \"n50_99\", \"n100_249\", \"n250_499\", \"n500_999\", \"n1000\", \"n1000_1\", \"n1000_2\", \"n1000_3\", \"n1000_4\"]"
   ]
  },
  {
   "cell_type": "code",
   "execution_count": 391,
   "metadata": {},
   "outputs": [],
   "source": [
    "gdp_df = gdp_df.drop(cols_to_drop_gdp, axis=1)\n",
    "occ_df = occ_df.drop(cols_to_drop_occ, axis=1)\n",
    "ptn_df = ptn_df.drop(cols_to_drop_pat, axis=1)"
   ]
  },
  {
   "cell_type": "markdown",
   "metadata": {},
   "source": [
    "## Feature Engineering"
   ]
  },
  {
   "cell_type": "code",
   "execution_count": 392,
   "metadata": {},
   "outputs": [],
   "source": [
    "master_df = pd.DataFrame()"
   ]
  },
  {
   "cell_type": "code",
   "execution_count": 393,
   "metadata": {},
   "outputs": [],
   "source": [
    "gdp_df = gdp_df.sort_values(by=\"FIPS\", ascending=True).reset_index(drop=True)\n",
    "occ_df = occ_df.sort_values(by=\"FIPS\", ascending=True).reset_index(drop=True)\n",
    "ptn_df = ptn_df.sort_values(by=\"FIPS\", ascending=True).reset_index(drop=True)"
   ]
  },
  {
   "cell_type": "markdown",
   "metadata": {},
   "source": [
    "### FIPS"
   ]
  },
  {
   "cell_type": "code",
   "execution_count": 394,
   "metadata": {},
   "outputs": [],
   "source": [
    "master_df[\"FIPS\"] = gdp_df[\"FIPS\"]"
   ]
  },
  {
   "cell_type": "markdown",
   "metadata": {},
   "source": [
    "### OCC Employment\n",
    "\n",
    "#### For NAICS1"
   ]
  },
  {
   "cell_type": "code",
   "execution_count": 395,
   "metadata": {},
   "outputs": [],
   "source": [
    "for index, element in enumerate(top_df[\"occ\"]): \n",
    "  occ_emp = occ_df[occ_df[\"OCC_CODE\"] == element]\n",
    "  occ_emp = occ_emp[occ_emp[\"naics\"] == top_df[\"naics\"][0]]\n",
    "\n",
    "  master_df = pd.merge(master_df, occ_emp[[\"FIPS\", \"emp_occupation\"]], on=\"FIPS\", how=\"left\")\n",
    "  master_df = master_df.rename({\"emp_occupation\": f\"naics1_occ{index+1}\"}, axis=1)"
   ]
  },
  {
   "cell_type": "markdown",
   "metadata": {},
   "source": [
    "#### For NAICS2-5"
   ]
  },
  {
   "cell_type": "code",
   "execution_count": 396,
   "metadata": {},
   "outputs": [],
   "source": [
    "occ_emp_rest = occ_df[occ_df[\"naics\"] != top_df[\"naics\"][0]]\n",
    "occ_emp_rest = occ_emp_rest.groupby(\"FIPS\")[\"emp_occupation\"].sum().reset_index()\n",
    "\n",
    "master_df = pd.merge(master_df, occ_emp_rest, on=\"FIPS\", how=\"left\")\n",
    "master_df = master_df.rename({\"emp_occupation\": \"naics2-5_occ1-5\"}, axis=1)"
   ]
  },
  {
   "cell_type": "markdown",
   "metadata": {},
   "source": [
    "### Establishments\n",
    "\n",
    "#### For NAICS1"
   ]
  },
  {
   "cell_type": "code",
   "execution_count": 397,
   "metadata": {},
   "outputs": [],
   "source": [
    "est_naicsx = ptn_df[ptn_df[\"naics\"] == top_df[\"naics\"][0]]\n",
    "\n",
    "master_df = pd.merge(master_df, est_naicsx[[\"FIPS\", \"est\"]], on=\"FIPS\", how=\"left\")\n",
    "master_df = master_df.rename({\"est\": \"naics1_est\"}, axis=1)"
   ]
  },
  {
   "cell_type": "markdown",
   "metadata": {},
   "source": [
    "#### For NAICS2-3"
   ]
  },
  {
   "cell_type": "code",
   "execution_count": 398,
   "metadata": {},
   "outputs": [],
   "source": [
    "est_naicsx = ptn_df[ptn_df[\"naics\"].isin(top_df[\"naics\"][1:3])]\n",
    "est_naicsx = est_naicsx.groupby(\"FIPS\")[\"est\"].sum().reset_index()\n",
    "\n",
    "master_df = pd.merge(master_df, est_naicsx[[\"FIPS\", \"est\"]], on=\"FIPS\", how=\"left\")\n",
    "master_df = master_df.rename({\"est\": \"naics2-3_est\"}, axis=1)"
   ]
  },
  {
   "cell_type": "markdown",
   "metadata": {},
   "source": [
    "#### For NAICS4-5"
   ]
  },
  {
   "cell_type": "code",
   "execution_count": 399,
   "metadata": {},
   "outputs": [],
   "source": [
    "est_naicsx = ptn_df[ptn_df[\"naics\"].isin(top_df[\"naics\"][4:])]\n",
    "est_naicsx = est_naicsx.groupby(\"FIPS\")[\"est\"].sum().reset_index()\n",
    "\n",
    "master_df = pd.merge(master_df, est_naicsx[[\"FIPS\", \"est\"]], on=\"FIPS\", how=\"left\")\n",
    "master_df = master_df.rename({\"est\": \"naics4-5_est\"}, axis=1)"
   ]
  },
  {
   "cell_type": "markdown",
   "metadata": {},
   "source": [
    "### Payment\n",
    "\n",
    "#### For NAIC1"
   ]
  },
  {
   "cell_type": "code",
   "execution_count": 400,
   "metadata": {},
   "outputs": [],
   "source": [
    "ap_naicsx = ptn_df[ptn_df[\"naics\"] == top_df[\"naics\"][0]]\n",
    "\n",
    "master_df = pd.merge(master_df, ap_naicsx[[\"FIPS\", \"ap\"]], on=\"FIPS\", how=\"left\")\n",
    "master_df = master_df.rename({\"ap\": \"naics1_ap\"}, axis=1)"
   ]
  },
  {
   "cell_type": "markdown",
   "metadata": {},
   "source": [
    "#### For NAIC2"
   ]
  },
  {
   "cell_type": "code",
   "execution_count": 401,
   "metadata": {},
   "outputs": [],
   "source": [
    "ap_naicsx = ptn_df[ptn_df[\"naics\"] == top_df[\"naics\"][1]]\n",
    "\n",
    "master_df = pd.merge(master_df, ap_naicsx[[\"FIPS\", \"ap\"]], on=\"FIPS\", how=\"left\")\n",
    "master_df = master_df.rename({\"ap\": \"naics2_ap\"}, axis=1)"
   ]
  },
  {
   "cell_type": "markdown",
   "metadata": {},
   "source": [
    "#### For NAIC3-5"
   ]
  },
  {
   "cell_type": "code",
   "execution_count": 402,
   "metadata": {},
   "outputs": [],
   "source": [
    "ap_naicsx = ptn_df[ptn_df[\"naics\"].isin(top_df[\"naics\"][2:])]\n",
    "ap_naicsx = ap_naicsx.groupby(\"FIPS\")[\"ap\"].mean().reset_index()\n",
    "\n",
    "master_df = pd.merge(master_df, ap_naicsx[[\"FIPS\", \"ap\"]], on=\"FIPS\", how=\"left\")\n",
    "master_df = master_df.rename({\"ap\": \"naics3-5_ap\"}, axis=1)"
   ]
  },
  {
   "cell_type": "markdown",
   "metadata": {},
   "source": [
    "### Mean GDP"
   ]
  },
  {
   "cell_type": "code",
   "execution_count": 403,
   "metadata": {},
   "outputs": [],
   "source": [
    "gdp_df[\"mean_gdp\"] = gdp_df[[\"2017\", \"2018\", \"2019\", \"2020\", \"2021\", \"2022\"]].mean(axis=1)\n",
    "\n",
    "master_df = pd.merge(master_df, gdp_df[[\"FIPS\", \"mean_gdp\"]], on=\"FIPS\", how=\"left\")"
   ]
  },
  {
   "cell_type": "markdown",
   "metadata": {},
   "source": [
    "## Cleanup"
   ]
  },
  {
   "cell_type": "code",
   "execution_count": 404,
   "metadata": {},
   "outputs": [],
   "source": [
    "master_df = master_df.fillna(0)"
   ]
  },
  {
   "cell_type": "code",
   "execution_count": 405,
   "metadata": {},
   "outputs": [],
   "source": [
    "cols_to_round = master_df.columns[1:7]\n",
    "master_df[cols_to_round] = np.ceil(master_df[cols_to_round])"
   ]
  },
  {
   "cell_type": "code",
   "execution_count": 406,
   "metadata": {},
   "outputs": [],
   "source": [
    "cols_to_change_dtype = master_df.columns[1:13]\n",
    "master_df[cols_to_change_dtype] = master_df[cols_to_change_dtype].astype(int)"
   ]
  },
  {
   "cell_type": "code",
   "execution_count": 407,
   "metadata": {},
   "outputs": [],
   "source": [
    "master_df = master_df.set_index(\"FIPS\")"
   ]
  },
  {
   "cell_type": "markdown",
   "metadata": {},
   "source": [
    "## Export"
   ]
  },
  {
   "cell_type": "code",
   "execution_count": 410,
   "metadata": {},
   "outputs": [
    {
     "data": {
      "text/html": [
       "<div>\n",
       "<style scoped>\n",
       "    .dataframe tbody tr th:only-of-type {\n",
       "        vertical-align: middle;\n",
       "    }\n",
       "\n",
       "    .dataframe tbody tr th {\n",
       "        vertical-align: top;\n",
       "    }\n",
       "\n",
       "    .dataframe thead th {\n",
       "        text-align: right;\n",
       "    }\n",
       "</style>\n",
       "<table border=\"1\" class=\"dataframe\">\n",
       "  <thead>\n",
       "    <tr style=\"text-align: right;\">\n",
       "      <th></th>\n",
       "      <th>naics1_occ1</th>\n",
       "      <th>naics1_occ2</th>\n",
       "      <th>naics1_occ3</th>\n",
       "      <th>naics1_occ4</th>\n",
       "      <th>naics1_occ5</th>\n",
       "      <th>naics2-5_occ1-5</th>\n",
       "      <th>naics1_est</th>\n",
       "      <th>naics2-3_est</th>\n",
       "      <th>naics4-5_est</th>\n",
       "      <th>naics1_ap</th>\n",
       "      <th>naics2_ap</th>\n",
       "      <th>naics3-5_ap</th>\n",
       "      <th>mean_gdp</th>\n",
       "    </tr>\n",
       "    <tr>\n",
       "      <th>FIPS</th>\n",
       "      <th></th>\n",
       "      <th></th>\n",
       "      <th></th>\n",
       "      <th></th>\n",
       "      <th></th>\n",
       "      <th></th>\n",
       "      <th></th>\n",
       "      <th></th>\n",
       "      <th></th>\n",
       "      <th></th>\n",
       "      <th></th>\n",
       "      <th></th>\n",
       "      <th></th>\n",
       "    </tr>\n",
       "  </thead>\n",
       "  <tbody>\n",
       "    <tr>\n",
       "      <th>1001</th>\n",
       "      <td>0</td>\n",
       "      <td>0</td>\n",
       "      <td>0</td>\n",
       "      <td>0</td>\n",
       "      <td>0</td>\n",
       "      <td>0</td>\n",
       "      <td>0</td>\n",
       "      <td>0</td>\n",
       "      <td>0</td>\n",
       "      <td>0</td>\n",
       "      <td>0</td>\n",
       "      <td>0</td>\n",
       "      <td>75548.67</td>\n",
       "    </tr>\n",
       "    <tr>\n",
       "      <th>1003</th>\n",
       "      <td>0</td>\n",
       "      <td>0</td>\n",
       "      <td>0</td>\n",
       "      <td>0</td>\n",
       "      <td>0</td>\n",
       "      <td>171</td>\n",
       "      <td>0</td>\n",
       "      <td>6</td>\n",
       "      <td>4</td>\n",
       "      <td>0</td>\n",
       "      <td>0</td>\n",
       "      <td>76744</td>\n",
       "      <td>409094.00</td>\n",
       "    </tr>\n",
       "    <tr>\n",
       "      <th>1005</th>\n",
       "      <td>0</td>\n",
       "      <td>0</td>\n",
       "      <td>0</td>\n",
       "      <td>0</td>\n",
       "      <td>0</td>\n",
       "      <td>0</td>\n",
       "      <td>0</td>\n",
       "      <td>0</td>\n",
       "      <td>0</td>\n",
       "      <td>0</td>\n",
       "      <td>0</td>\n",
       "      <td>0</td>\n",
       "      <td>96016.67</td>\n",
       "    </tr>\n",
       "    <tr>\n",
       "      <th>1007</th>\n",
       "      <td>0</td>\n",
       "      <td>0</td>\n",
       "      <td>0</td>\n",
       "      <td>0</td>\n",
       "      <td>0</td>\n",
       "      <td>0</td>\n",
       "      <td>0</td>\n",
       "      <td>0</td>\n",
       "      <td>0</td>\n",
       "      <td>0</td>\n",
       "      <td>0</td>\n",
       "      <td>0</td>\n",
       "      <td>49192.17</td>\n",
       "    </tr>\n",
       "    <tr>\n",
       "      <th>1009</th>\n",
       "      <td>0</td>\n",
       "      <td>0</td>\n",
       "      <td>0</td>\n",
       "      <td>0</td>\n",
       "      <td>0</td>\n",
       "      <td>0</td>\n",
       "      <td>0</td>\n",
       "      <td>0</td>\n",
       "      <td>0</td>\n",
       "      <td>0</td>\n",
       "      <td>0</td>\n",
       "      <td>0</td>\n",
       "      <td>48779.83</td>\n",
       "    </tr>\n",
       "    <tr>\n",
       "      <th>...</th>\n",
       "      <td>...</td>\n",
       "      <td>...</td>\n",
       "      <td>...</td>\n",
       "      <td>...</td>\n",
       "      <td>...</td>\n",
       "      <td>...</td>\n",
       "      <td>...</td>\n",
       "      <td>...</td>\n",
       "      <td>...</td>\n",
       "      <td>...</td>\n",
       "      <td>...</td>\n",
       "      <td>...</td>\n",
       "      <td>...</td>\n",
       "    </tr>\n",
       "    <tr>\n",
       "      <th>6041</th>\n",
       "      <td>0</td>\n",
       "      <td>0</td>\n",
       "      <td>0</td>\n",
       "      <td>0</td>\n",
       "      <td>0</td>\n",
       "      <td>2</td>\n",
       "      <td>0</td>\n",
       "      <td>0</td>\n",
       "      <td>0</td>\n",
       "      <td>0</td>\n",
       "      <td>0</td>\n",
       "      <td>525</td>\n",
       "      <td>228627.67</td>\n",
       "    </tr>\n",
       "    <tr>\n",
       "      <th>6043</th>\n",
       "      <td>0</td>\n",
       "      <td>0</td>\n",
       "      <td>0</td>\n",
       "      <td>0</td>\n",
       "      <td>0</td>\n",
       "      <td>0</td>\n",
       "      <td>0</td>\n",
       "      <td>0</td>\n",
       "      <td>0</td>\n",
       "      <td>0</td>\n",
       "      <td>0</td>\n",
       "      <td>0</td>\n",
       "      <td>8539.20</td>\n",
       "    </tr>\n",
       "    <tr>\n",
       "      <th>6045</th>\n",
       "      <td>0</td>\n",
       "      <td>0</td>\n",
       "      <td>0</td>\n",
       "      <td>0</td>\n",
       "      <td>0</td>\n",
       "      <td>0</td>\n",
       "      <td>0</td>\n",
       "      <td>0</td>\n",
       "      <td>0</td>\n",
       "      <td>0</td>\n",
       "      <td>0</td>\n",
       "      <td>0</td>\n",
       "      <td>161320.00</td>\n",
       "    </tr>\n",
       "    <tr>\n",
       "      <th>6047</th>\n",
       "      <td>0</td>\n",
       "      <td>0</td>\n",
       "      <td>0</td>\n",
       "      <td>0</td>\n",
       "      <td>0</td>\n",
       "      <td>0</td>\n",
       "      <td>0</td>\n",
       "      <td>0</td>\n",
       "      <td>0</td>\n",
       "      <td>0</td>\n",
       "      <td>0</td>\n",
       "      <td>0</td>\n",
       "      <td>205254.83</td>\n",
       "    </tr>\n",
       "    <tr>\n",
       "      <th>6049</th>\n",
       "      <td>0</td>\n",
       "      <td>0</td>\n",
       "      <td>0</td>\n",
       "      <td>0</td>\n",
       "      <td>0</td>\n",
       "      <td>0</td>\n",
       "      <td>0</td>\n",
       "      <td>0</td>\n",
       "      <td>0</td>\n",
       "      <td>0</td>\n",
       "      <td>0</td>\n",
       "      <td>0</td>\n",
       "      <td>0.00</td>\n",
       "    </tr>\n",
       "  </tbody>\n",
       "</table>\n",
       "<p>200 rows × 13 columns</p>\n",
       "</div>"
      ],
      "text/plain": [
       "      naics1_occ1  naics1_occ2  naics1_occ3  naics1_occ4  naics1_occ5  naics2-5_occ1-5  naics1_est  naics2-3_est  naics4-5_est  naics1_ap  naics2_ap  naics3-5_ap  mean_gdp\n",
       "FIPS                                                                                                                                                                       \n",
       "1001            0            0            0            0            0                0           0             0             0          0          0            0  75548.67\n",
       "1003            0            0            0            0            0              171           0             6             4          0          0        76744 409094.00\n",
       "1005            0            0            0            0            0                0           0             0             0          0          0            0  96016.67\n",
       "1007            0            0            0            0            0                0           0             0             0          0          0            0  49192.17\n",
       "1009            0            0            0            0            0                0           0             0             0          0          0            0  48779.83\n",
       "...           ...          ...          ...          ...          ...              ...         ...           ...           ...        ...        ...          ...       ...\n",
       "6041            0            0            0            0            0                2           0             0             0          0          0          525 228627.67\n",
       "6043            0            0            0            0            0                0           0             0             0          0          0            0   8539.20\n",
       "6045            0            0            0            0            0                0           0             0             0          0          0            0 161320.00\n",
       "6047            0            0            0            0            0                0           0             0             0          0          0            0 205254.83\n",
       "6049            0            0            0            0            0                0           0             0             0          0          0            0      0.00\n",
       "\n",
       "[200 rows x 13 columns]"
      ]
     },
     "execution_count": 410,
     "metadata": {},
     "output_type": "execute_result"
    }
   ],
   "source": [
    "master_df.head(200)"
   ]
  },
  {
   "cell_type": "code",
   "execution_count": 409,
   "metadata": {},
   "outputs": [],
   "source": [
    "pd.to_pickle(master_df, \"../data/processed/master_df.pkl\")"
   ]
  }
 ],
 "metadata": {
  "kernelspec": {
   "display_name": "Python 3 (ipykernel)",
   "language": "python",
   "name": "python3"
  },
  "language_info": {
   "codemirror_mode": {
    "name": "ipython",
    "version": 3
   },
   "file_extension": ".py",
   "mimetype": "text/x-python",
   "name": "python",
   "nbconvert_exporter": "python",
   "pygments_lexer": "ipython3",
   "version": "3.12.4"
  }
 },
 "nbformat": 4,
 "nbformat_minor": 4
}
