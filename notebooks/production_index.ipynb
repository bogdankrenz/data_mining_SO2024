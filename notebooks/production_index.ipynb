{
 "cells": [
  {
   "cell_type": "code",
   "execution_count": 8,
   "metadata": {},
   "outputs": [
    {
     "ename": "AttributeError",
     "evalue": "'list' object has no attribute 'lenght'",
     "output_type": "error",
     "traceback": [
      "\u001b[0;31m---------------------------------------------------------------------------\u001b[0m",
      "\u001b[0;31mAttributeError\u001b[0m                            Traceback (most recent call last)",
      "Cell \u001b[0;32mIn[8], line 25\u001b[0m\n\u001b[1;32m     22\u001b[0m cols_to_analyze \u001b[38;5;241m=\u001b[39m \u001b[38;5;28mlist\u001b[39m(df\u001b[38;5;241m.\u001b[39mfilter(regex\u001b[38;5;241m=\u001b[39mterms)\u001b[38;5;241m.\u001b[39mcolumns)\n\u001b[1;32m     24\u001b[0m \u001b[38;5;66;03m# Print d\u001b[39;00m\n\u001b[0;32m---> 25\u001b[0m \u001b[38;5;28mprint\u001b[39m(\u001b[43mcols_to_analyze\u001b[49m\u001b[38;5;241;43m.\u001b[39;49m\u001b[43mlenght\u001b[49m)\n",
      "\u001b[0;31mAttributeError\u001b[0m: 'list' object has no attribute 'lenght'"
     ]
    }
   ],
   "source": [
    "# Import pickle package\n",
    "import pickle\n",
    "\n",
    "# Open pickle file and load data: d\n",
    "with open(\"../data/raw/production_index_df.pkl\", \"rb\") as file:\n",
    "    df = pickle.load(file)\n",
    "\n",
    "terms = [\n",
    "    \"Agricultur\",\n",
    "    \"Mining\",\n",
    "    \"Quarrying\",\n",
    "    \"Oil\",\n",
    "    \"Gas\",\n",
    "    \"Utilities\",\n",
    "    \"Construction\",\n",
    "    \"Manufacturing\"\n",
    "    ]\n",
    "\n",
    "terms = \"|\".join(terms)\n",
    "\n",
    "\n",
    "cols_to_analyze = list(df.filter(regex=terms).columns)\n",
    "\n",
    "# Print d\n",
    "print(len(cols_to_analyze))"
   ]
  }
 ],
 "metadata": {
  "kernelspec": {
   "display_name": "env",
   "language": "python",
   "name": "python3"
  },
  "language_info": {
   "codemirror_mode": {
    "name": "ipython",
    "version": 3
   },
   "file_extension": ".py",
   "mimetype": "text/x-python",
   "name": "python",
   "nbconvert_exporter": "python",
   "pygments_lexer": "ipython3",
   "version": "3.12.3"
  }
 },
 "nbformat": 4,
 "nbformat_minor": 2
}
