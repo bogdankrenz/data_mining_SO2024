{
 "cells": [
  {
   "cell_type": "markdown",
   "metadata": {},
   "source": [
    "# Merge the tables together for clustering\n",
    "\n",
    "## Import processed files"
   ]
  },
  {
   "cell_type": "code",
   "execution_count": 118,
   "metadata": {},
   "outputs": [],
   "source": [
    "import pickle\n",
    "import pandas as pd\n",
    "import numpy as np\n",
    "\n",
    "pd.set_option(\"display.width\", 1000)"
   ]
  },
  {
   "cell_type": "code",
   "execution_count": 119,
   "metadata": {},
   "outputs": [],
   "source": [
    "with open(\"../data/processed/gdp.pkl\", \"rb\") as file:\n",
    "    gdp = pickle.load(file)\n",
    "\n",
    "with open(\"../data/processed/occupation.pkl\", \"rb\") as file:\n",
    "    occ = pickle.load(file)\n",
    "\n",
    "with open(\"../data/processed/patterns.pkl\", \"rb\") as file:\n",
    "    patterns = pickle.load(file)"
   ]
  },
  {
   "cell_type": "code",
   "execution_count": 120,
   "metadata": {},
   "outputs": [
    {
     "name": "stdout",
     "output_type": "stream",
     "text": [
      "          FIPS naics  emp_total_county_naics OCC_CODE                                          OCC_TITLE  emp_occupation      naics_2\n",
      "0        13073  2373                      27  11-3051                     Industrial Production Managers        0.022497           23\n",
      "1        13073  2381                     231  11-3051                     Industrial Production Managers        0.067490           23\n",
      "2        13073  2382                     868  11-3051                     Industrial Production Managers        0.134981           23\n",
      "3        13073  2383                     281  11-3051                     Industrial Production Managers        0.078739           23\n",
      "5        13073  3211                     116  11-3051                     Industrial Production Managers        0.978609  321,327-339\n",
      "...        ...   ...                     ...      ...                                                ...             ...          ...\n",
      "1820145  56041  2381                     115  51-9195  Molders, Shapers, and Casters, Except Metal an...        0.201729           23\n",
      "1820146  56041  2383                       7  51-9195  Molders, Shapers, and Casters, Except Metal an...        0.057637           23\n",
      "1820148  56043  2123                      20  51-9195  Molders, Shapers, and Casters, Except Metal an...        0.028818           21\n",
      "1820149  56043  2381                      20  51-9195  Molders, Shapers, and Casters, Except Metal an...        0.028818           23\n",
      "1820150  56043  2383                      13  51-9195  Molders, Shapers, and Casters, Except Metal an...        0.086455           23\n",
      "\n",
      "[699691 rows x 7 columns]\n",
      "         FIPS naics_2 naics emp_nf  emp ap_nf     ap  est n<5 n5_9  ... n20_49 n50_99 n100_249 n250_499 n500_999 n1000 n1000_1 n1000_2 n1000_3 n1000_4\n",
      "0        1001      11  1133      G   68     G   4563    7   6    N  ...      N      N        N        N        N     N       N       N       N       N\n",
      "1        1001      21  2123      G   87     G   5144    6   N    N  ...      N      N        N        N        N     N       N       N       N       N\n",
      "2        1001      22  2211      G  129     G  16342    4   N    N  ...      N      N        N        N        N     N       N       N       N       N\n",
      "4        1001      23  2362      H   69     H   4184    7   3    N  ...      N      N        N        N        N     N       N       N       N       N\n",
      "5        1001      23  2371      H   65     H   4574    4   N    N  ...      N      N        N        N        N     N       N       N       N       N\n",
      "...       ...     ...   ...    ...  ...   ...    ...  ...  ..  ...  ...    ...    ...      ...      ...      ...   ...     ...     ...     ...     ...\n",
      "188547  56045      21  2111      J    5     H    206    4   4    N  ...      N      N        N        N        N     N       N       N       N       N\n",
      "188548  56045      21  2131      J   44     H   1966   13  10    N  ...      N      N        N        N        N     N       N       N       N       N\n",
      "188549  56045      22  2211      J    6     J    616    3   3    N  ...      N      N        N        N        N     N       N       N       N       N\n",
      "188551  56045      23  2371      J   10     J    448    5   4    N  ...      N      N        N        N        N     N       N       N       N       N\n",
      "188552  56045      23  2382      G   57     H   3508    7   3    N  ...      N      N        N        N        N     N       N       N       N       N\n",
      "\n",
      "[30643 rows x 21 columns]\n"
     ]
    }
   ],
   "source": [
    "print(occ)\n",
    "print(patterns)"
   ]
  },
  {
   "cell_type": "code",
   "execution_count": 121,
   "metadata": {},
   "outputs": [
    {
     "name": "stdout",
     "output_type": "stream",
     "text": [
      "   FIPS naics          naics_2 emp_nf  emp ap_nf     ap  est n<5 n5_9  ... n20_49 n50_99 n100_249 n250_499 n500_999 n1000 n1000_1 n1000_2 n1000_3 n1000_4\n",
      "0  1001  1133               11      G   68     G   4563    7   6    N  ...      N      N        N        N        N     N       N       N       N       N\n",
      "1  1001  2123               21      G   87     G   5144    6   N    N  ...      N      N        N        N        N     N       N       N       N       N\n",
      "2  1001  2211               22      G  129     G  16342    4   N    N  ...      N      N        N        N        N     N       N       N       N       N\n",
      "3  1001  2362               23      H   69     H   4184    7   3    N  ...      N      N        N        N        N     N       N       N       N       N\n",
      "4  1001  2371               23      H   65     H   4574    4   N    N  ...      N      N        N        N        N     N       N       N       N       N\n",
      "5  1001  2381               23      H   44     G   1775   12   7    4  ...      N      N        N        N        N     N       N       N       N       N\n",
      "6  1001  2382               23      H  157     G   7822   27  15    7  ...      N      N        N        N        N     N       N       N       N       N\n",
      "7  1001  2383               23      H   81     H   3630   13   7    5  ...      N      N        N        N        N     N       N       N       N       N\n",
      "8  1001  3231  311-316,322-326      J   33     H   1334    4   N    N  ...      N      N        N        N        N     N       N       N       N       N\n",
      "\n",
      "[9 rows x 21 columns]\n"
     ]
    }
   ],
   "source": [
    "# TODO: Aggregate patterns data for the noise flag\n",
    "# FIPS NAICS\n",
    "\n",
    "patterns_aggregated = (\n",
    "    patterns.groupby([\"FIPS\", \"naics\", \"naics_2\"])\n",
    "    .agg(\n",
    "        {\n",
    "            \"emp_nf\": \"sum\",\n",
    "            \"emp\": \"sum\",\n",
    "            \"ap_nf\": \"sum\",\n",
    "            \"ap\": \"sum\",\n",
    "            \"est\": \"sum\",\n",
    "            \"n<5\": \"sum\",\n",
    "            \"n5_9\": \"sum\",\n",
    "            \"n10_19\": \"sum\",\n",
    "            \"n20_49\": \"sum\",\n",
    "            \"n50_99\": \"sum\",\n",
    "            \"n100_249\": \"sum\",\n",
    "            \"n250_499\": \"sum\",\n",
    "            \"n500_999\": \"sum\",\n",
    "            \"n1000\": \"sum\",\n",
    "            \"n1000_1\": \"sum\",\n",
    "            \"n1000_2\": \"sum\",\n",
    "            \"n1000_3\": \"sum\",\n",
    "            \"n1000_4\": \"sum\",\n",
    "        }\n",
    "    )\n",
    "    .reset_index()\n",
    ")\n",
    "# print(patterns)\n",
    "# print(patterns_aggregated)\n",
    "\n",
    "occ_patterns_aggregated = pd.merge(occ, patterns_aggregated, on=['FIPS', 'naics', 'naics_2'], how='inner')\n",
    "print(patterns_aggregated.loc[patterns_aggregated['FIPS'] == 1073])"
   ]
  }
 ],
 "metadata": {
  "kernelspec": {
   "display_name": "env",
   "language": "python",
   "name": "python3"
  },
  "language_info": {
   "codemirror_mode": {
    "name": "ipython",
    "version": 3
   },
   "file_extension": ".py",
   "mimetype": "text/x-python",
   "name": "python",
   "nbconvert_exporter": "python",
   "pygments_lexer": "ipython3",
   "version": "3.9.5"
  }
 },
 "nbformat": 4,
 "nbformat_minor": 2
}
