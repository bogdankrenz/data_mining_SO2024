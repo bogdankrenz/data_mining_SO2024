{
 "cells": [
  {
   "cell_type": "markdown",
   "metadata": {},
   "source": [
    "# Merging\n",
    "\n",
    "## Imports"
   ]
  },
  {
   "cell_type": "code",
   "execution_count": 215,
   "metadata": {},
   "outputs": [],
   "source": [
    "import pickle\n",
    "import pandas as pd\n",
    "import numpy as np\n",
    "\n",
    "pd.set_option(\"display.width\", 1000)\n",
    "pd.set_option('display.max_columns', None)"
   ]
  },
  {
   "cell_type": "code",
   "execution_count": 216,
   "metadata": {},
   "outputs": [],
   "source": [
    "with open(\"../data/processed/gdp.pkl\", \"rb\") as file:\n",
    "  gdp = pickle.load(file)\n",
    "\n",
    "with open(\"../data/processed/occupation.pkl\", \"rb\") as file:\n",
    "  occ = pickle.load(file)\n",
    "\n",
    "with open(\"../data/processed/patterns.pkl\", \"rb\") as file:\n",
    "  patterns = pickle.load(file)"
   ]
  },
  {
   "cell_type": "markdown",
   "metadata": {},
   "source": [
    "## Merging\n",
    "\n",
    "### OCC and Patterns"
   ]
  },
  {
   "cell_type": "code",
   "execution_count": 217,
   "metadata": {},
   "outputs": [],
   "source": [
    "# Merge\n",
    "masterFrame = pd.merge(occ, patterns, on=[\"FIPS\", \"naics\"], how=\"inner\")\n",
    "\n",
    "# Resulting cleanup\n",
    "masterFrame = masterFrame.drop([\"naics_2_y\", \"emp\"], axis=1)\n",
    "masterFrame = masterFrame.rename(columns={\"naics_2_x\": \"naics_2\"})"
   ]
  },
  {
   "cell_type": "markdown",
   "metadata": {},
   "source": [
    "### OCC_Patterns and  GDP"
   ]
  },
  {
   "cell_type": "code",
   "execution_count": 218,
   "metadata": {},
   "outputs": [],
   "source": [
    "# Merge\n",
    "masterFrame = pd.merge(masterFrame, gdp, left_on=[\"FIPS\", \"naics_2\"], right_on=[\"FIPS\", \"naics\"], how=\"left\")\n",
    "\n",
    "# Resulting cleanup\n",
    "masterFrame = masterFrame.drop([\"naics_y\"], axis=1)\n",
    "masterFrame = masterFrame.rename(columns={\"naics_x\": \"naics\"})"
   ]
  },
  {
   "cell_type": "markdown",
   "metadata": {},
   "source": [
    "## Cleanup"
   ]
  },
  {
   "cell_type": "code",
   "execution_count": 219,
   "metadata": {},
   "outputs": [],
   "source": [
    "# Define new column order\n",
    "master_order = [\"FIPS\", \"GeoName\", \"naics\", \"naics_2\", \"Description\", \"emp_nf\", \"emp_total_county_naics\", \"OCC_CODE\", \"OCC_TITLE\", \"emp_occupation\", \"ap_nf\", \"ap\", \"gdp\", \"est\",\"n<5\", \"n5_9\", \"n10_19\", \"n20_49\", \"n50_99\", \"n100_249\", \"n250_499\", \"n500_999\", \"n1000\", \"n1000_1\", \"n1000_2\", \"n1000_3\", \"n1000_4\", \"gdp_fips\", \"gdp_naics\"]\n",
    "\n",
    "# Reorder\n",
    "masterFrame = masterFrame[master_order]"
   ]
  }
 ],
 "metadata": {
  "kernelspec": {
   "display_name": ".venv",
   "language": "python",
   "name": "python3"
  },
  "language_info": {
   "codemirror_mode": {
    "name": "ipython",
    "version": 3
   },
   "file_extension": ".py",
   "mimetype": "text/x-python",
   "name": "python",
   "nbconvert_exporter": "python",
   "pygments_lexer": "ipython3",
   "version": "3.12.3"
  }
 },
 "nbformat": 4,
 "nbformat_minor": 2
}
