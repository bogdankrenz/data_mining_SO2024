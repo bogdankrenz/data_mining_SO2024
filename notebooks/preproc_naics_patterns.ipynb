{
 "cells": [
  {
   "cell_type": "code",
   "execution_count": null,
   "metadata": {},
   "outputs": [],
   "source": [
    "import pickle\n",
    "import pandas as pd\n",
    "\n",
    "pd.set_option('display.max_columns', None)"
   ]
  },
  {
   "cell_type": "code",
   "execution_count": null,
   "metadata": {},
   "outputs": [],
   "source": [
    "with open(\"../data/raw/naics_pattern.pkl\", \"rb\") as file:\n",
    "  df = pickle.load(file)\n",
    "\n",
    "with open(\"../data/processed/occupation_gdp.pkl\", \"rb\") as file:\n",
    "  occ_gdp = pickle.load(file)"
   ]
  },
  {
   "cell_type": "code",
   "execution_count": null,
   "metadata": {},
   "outputs": [],
   "source": [
    "cols_to_drop = [\"State_GEOID\", \"County_GEOID\", \"DESCRIPTION\", \"qp1_nf\", \"qp1\"]\n",
    "\n",
    "# FIPS filter for \"globals\" and unknown counties\n",
    "fips_filter = \"|\".join([\"^0\", \"0$\", \"999$\"])\n",
    "\n",
    "# NAICS filter for intereseting codes for our purpose\n",
    "naics_filter = \"|\".join([\"^11\", \"^21\", \"^22\", \"^23\", \"^31\", \"^32\", \"^33\"])"
   ]
  },
  {
   "cell_type": "code",
   "execution_count": null,
   "metadata": {},
   "outputs": [],
   "source": [
    "# Drop unnecessary cols\n",
    "df = df.drop(cols_to_drop, axis=1)\n",
    "\n",
    "# Drop FIPS\n",
    "df = df.loc[df[\"FIPS\"] < 90000]\n",
    "df = df.loc[~df[\"FIPS\"].astype(str).str.contains(fips_filter)]\n",
    "\n",
    "# Drop NAICS\n",
    "df = df.loc[df[\"naics\"].str.contains(naics_filter)]"
   ]
  },
  {
   "cell_type": "code",
   "execution_count": null,
   "metadata": {},
   "outputs": [],
   "source": [
    "# Create new compress naics col\n",
    "def map_naics_code(naics_code):\n",
    "  code_prefix = int(naics_code[:3])\n",
    "\n",
    "  if code_prefix < 310: \n",
    "    return str(code_prefix)[:2]\n",
    "  else:\n",
    "    if code_prefix == 321 or ( 327 <= code_prefix <= 339):\n",
    "      return \"321,327-339\"\n",
    "    elif (311 <=code_prefix <= 316) or (322 <= code_prefix <= 326):\n",
    "      return \"311-316,322-326\"\n",
    "    else:\n",
    "      return \"31-33\"\n",
    "  \n",
    "df[\"naics_2\"] = df[\"naics\"].apply(map_naics_code)"
   ]
  },
  {
   "cell_type": "code",
   "execution_count": null,
   "metadata": {},
   "outputs": [],
   "source": [
    "df = df.drop([\"naics_2\"], axis=1)\n",
    "\n",
    "df_conc = pd.merge(occ_gdp, df, on=[\"FIPS\", \"naics\"], how=\"left\")"
   ]
  },
  {
   "cell_type": "code",
   "execution_count": null,
   "metadata": {},
   "outputs": [],
   "source": [
    "df_conc = df_conc.drop([\"GeoName\", \"NAICS_TITLE\", \"Description\", \"OCC_TITLE\", \"emp_nf\", \"ap_nf\"], axis=1)\n",
    "df_conc = df_conc.sort_values(by=[\"FIPS\", \"naics\"], ascending=True)"
   ]
  }
 ],
 "metadata": {
  "kernelspec": {
   "display_name": ".venv",
   "language": "python",
   "name": "python3"
  },
  "language_info": {
   "codemirror_mode": {
    "name": "ipython",
    "version": 3
   },
   "file_extension": ".py",
   "mimetype": "text/x-python",
   "name": "python",
   "nbconvert_exporter": "python",
   "pygments_lexer": "ipython3",
   "version": "3.12.4"
  }
 },
 "nbformat": 4,
 "nbformat_minor": 2
}
