{
 "cells": [
  {
   "cell_type": "code",
   "execution_count": null,
   "metadata": {},
   "outputs": [],
   "source": [
    "import pickle\n",
    "\n",
    "\n",
    "with open(\"../data/raw/naics_pattern.pkl\", \"rb\") as file:\n",
    "  df = pickle.load(file)"
   ]
  },
  {
   "cell_type": "code",
   "execution_count": null,
   "metadata": {},
   "outputs": [],
   "source": [
    "# Preprocess\n",
    "\n",
    "# Vars\n",
    "## Unecessary Cols\n",
    "cols_to_drop = [\"State_GEOID\", \"County_GEOID\", \"naics_2\", \"DESCRIPTION\"]\n",
    "cols_to_drop = cols_to_drop + [\"emp_nf\", \"qp1_nf\", \"qp1\", \"ap_nf\", \"n1000_4\"] # extra\n",
    "\n",
    "## Uninteresting NAICS codes\n",
    "naics_filter = [\"^11\", \"^21\", \"^22\", \"^23\", \"^31\", \"^32\", \"^33\"]\n",
    "naics_filter = \"|\".join(naics_filter)\n",
    "\n",
    "## Unknown FIPS codes\n",
    "fips_filter = \"999$\"\n",
    "\n",
    "# Remove\n",
    "df = df.loc[~df[\"FIPS\"].astype(str).str.contains(fips_filter)]\n",
    "df.drop(cols_to_drop, axis=1, inplace=True)\n",
    "df = df.loc[df[\"naics\"].str.contains(naics_filter)]\n",
    "\n",
    "# Sorting\n",
    "df = df.sort_values(by=[\"ap\", \"emp\"], ascending=False)"
   ]
  },
  {
   "cell_type": "code",
   "execution_count": null,
   "metadata": {},
   "outputs": [],
   "source": [
    "df_group_fips = df.groupby(\"FIPS\")[\"ap\"].sum()\n",
    "df_group_fips = df_group_fips.sort_values(ascending=False)\n",
    "\n",
    "df_group_naics = df.groupby(\"naics\")[\"ap\"].sum()\n",
    "df_group_naics = df_group_naics.sort_values(ascending=False)"
   ]
  }
 ],
 "metadata": {
  "kernelspec": {
   "display_name": ".venv",
   "language": "python",
   "name": "python3"
  },
  "language_info": {
   "codemirror_mode": {
    "name": "ipython",
    "version": 3
   },
   "file_extension": ".py",
   "mimetype": "text/x-python",
   "name": "python",
   "nbconvert_exporter": "python",
   "pygments_lexer": "ipython3",
   "version": "3.12.3"
  }
 },
 "nbformat": 4,
 "nbformat_minor": 2
}
