{
 "cells": [
  {
   "cell_type": "code",
   "execution_count": 8,
   "metadata": {},
   "outputs": [],
   "source": [
    "import pickle\n",
    "import pandas as pd\n",
    "pd.set_option(\"display.width\", 1000)\n",
    "\n",
    "with open(\"../data/raw/naics_occupation.pkl\", \"rb\") as file:\n",
    "  df = pickle.load(file)"
   ]
  },
  {
   "cell_type": "code",
   "execution_count": 9,
   "metadata": {},
   "outputs": [],
   "source": [
    "cols_to_drop = [\"State_GEOID\", \"NAICS_TITLE\"]\n",
    "\n",
    "naics_filter = [\"^11\", \"^21\", \"^22\", \"^23\", \"^31\", \"^32\", \"^33\"]\n",
    "naics_filter = \"|\".join(naics_filter)\n",
    "\n",
    "fips_filter = [\"0\", \"999$\"]\n",
    "fips_filter = \"|\".join(fips_filter)"
   ]
  },
  {
   "cell_type": "code",
   "execution_count": 10,
   "metadata": {},
   "outputs": [],
   "source": [
    "df = df.drop(cols_to_drop, axis=1)\n",
    "df = df[~df[\"FIPS\"].astype(str).str.contains(fips_filter)]\n",
    "df = df[df[\"naics\"].astype(str).str.contains(naics_filter)]\n",
    "\n",
    "df = df.sort_values(by=[\"emp_total_county_naics\"], ascending=False)"
   ]
  },
  {
   "cell_type": "code",
   "execution_count": 11,
   "metadata": {},
   "outputs": [
    {
     "name": "stdout",
     "output_type": "stream",
     "text": [
      "          FIPS   naics  emp_total_county_naics OCC_CODE                                          OCC_TITLE  emp_occupation\n",
      "1283017  36113  3370A1                       1  51-4031  Cutting, Punching, and Press Machine Setters, ...        0.010664\n",
      "1571933  12117    3362                       1  51-2041           Structural Metal Fabricators and Fitters        0.006387\n",
      "644493   21131    1133                       1  49-3042   Mobile Heavy Equipment Mechanics, Except Engines        0.045273\n",
      "1485709  12117    3362                       1  17-2112                               Industrial Engineers        0.010457\n",
      "542329   48165  3330A1                       1  51-4033  Grinding, Lapping, Polishing, and Buffing Mach...        0.009588\n",
      "...        ...     ...                     ...      ...                                                ...             ...\n",
      "443229   48113    2382                   27153  17-2112                               Industrial Engineers        7.761392\n",
      "488379   48113    2382                   27153  49-3031  Bus and Truck Mechanics and Diesel Engine Spec...       21.697880\n",
      "513354   48113    2382                   27153  49-9043                     Maintenance Workers, Machinery       17.461381\n",
      "468118   48113    2382                   27153  47-2211                                Sheet Metal Workers      616.737699\n",
      "506464   48113    2382                   27153  49-9041                     Industrial Machinery Mechanics       62.210583\n",
      "\n",
      "[186352 rows x 6 columns]\n"
     ]
    }
   ],
   "source": [
    "print(df)"
   ]
  }
 ],
 "metadata": {
  "kernelspec": {
   "display_name": ".venv",
   "language": "python",
   "name": "python3"
  },
  "language_info": {
   "codemirror_mode": {
    "name": "ipython",
    "version": 3
   },
   "file_extension": ".py",
   "mimetype": "text/x-python",
   "name": "python",
   "nbconvert_exporter": "python",
   "pygments_lexer": "ipython3",
   "version": "3.12.3"
  }
 },
 "nbformat": 4,
 "nbformat_minor": 2
}
