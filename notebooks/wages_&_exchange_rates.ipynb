{
 "cells": [
  {
   "cell_type": "code",
   "execution_count": null,
   "metadata": {},
   "outputs": [],
   "source": [
    "import pandas as pd\n",
    "\n",
    "file_path = \"../data/raw/wages_df.pkl\"\n",
    "wages_data = pd.read_pickle(file_path)\n",
    "\n",
    "# Wages contains wages by the hour for a certain month of the year\n",
    "print(wages_data.head())"
   ]
  },
  {
   "cell_type": "code",
   "execution_count": 7,
   "metadata": {},
   "outputs": [
    {
     "name": "stdout",
     "output_type": "stream",
     "text": [
      "    Series Description SPOT EXCHANGE RATE - EURO AREA   \\\n",
      "0                Unit:               Currency:_Per_EUR   \n",
      "1          Multiplier:                               1   \n",
      "2            Currency:                             USD   \n",
      "3  Unique Identifier:            H10/H10/RXI$US_N.M.EU   \n",
      "4          Time Period                   RXI$US_N.M.EU   \n",
      "\n",
      "  United Kingdom -- Spot Exchange Rate, US$/Pound Sterling Reciprocal of rxi_n.m.uk  \\\n",
      "0                                  Currency:_Per_GBP                                  \n",
      "1                                      0.00999999978                                  \n",
      "2                                                USD                                  \n",
      "3                              H10/H10/RXI$US_N.M.UK                                  \n",
      "4                                      RXI$US_N.M.UK                                  \n",
      "\n",
      "  JAPAN -- SPOT EXCHANGE RATE, YEA/US$   \\\n",
      "0                     Currency:_Per_USD   \n",
      "1                                     1   \n",
      "2                                   JPY   \n",
      "3                    H10/H10/RXI_N.M.JA   \n",
      "4                            RXI_N.M.JA   \n",
      "\n",
      "  SWITZERLAND -- SPOT EXCHANGE RATE, FRANCS/US$   \n",
      "0                              Currency:_Per_USD  \n",
      "1                                              1  \n",
      "2                                            CHF  \n",
      "3                             H10/H10/RXI_N.M.SZ  \n",
      "4                                     RXI_N.M.SZ  \n"
     ]
    }
   ],
   "source": [
    "import pandas as pd\n",
    "\n",
    "file_path = \"../data/raw/exchange_rates_df.pkl\"\n",
    "exchange_data = pd.read_pickle(file_path)\n",
    "\n",
    "print(exchange_data.head())"
   ]
  }
 ],
 "metadata": {
  "kernelspec": {
   "display_name": "env",
   "language": "python",
   "name": "python3"
  },
  "language_info": {
   "codemirror_mode": {
    "name": "ipython",
    "version": 3
   },
   "file_extension": ".py",
   "mimetype": "text/x-python",
   "name": "python",
   "nbconvert_exporter": "python",
   "pygments_lexer": "ipython3",
   "version": "3.9.5"
  }
 },
 "nbformat": 4,
 "nbformat_minor": 2
}
