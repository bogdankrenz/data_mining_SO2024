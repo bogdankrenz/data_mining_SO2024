{
 "cells": [
  {
   "cell_type": "code",
   "execution_count": null,
   "metadata": {},
   "outputs": [],
   "source": [
    "import pandas as pd\n",
    "\n",
    "file_path = \"../data/raw/wages_df.pkl\"\n",
    "wages_data = pd.read_pickle(file_path)\n",
    "\n",
    "# Wages contains wages by the hour for a certain month of the year\n",
    "print(wages_data.head())"
   ]
  },
  {
   "cell_type": "code",
   "execution_count": 27,
   "metadata": {},
   "outputs": [
    {
     "name": "stdout",
     "output_type": "stream",
     "text": [
      "<class 'pandas.core.frame.DataFrame'>\n",
      "RangeIndex: 297 entries, 0 to 296\n",
      "Data columns (total 5 columns):\n",
      " #   Column                                                                             Non-Null Count  Dtype \n",
      "---  ------                                                                             --------------  ----- \n",
      " 0   Series Description                                                                 297 non-null    object\n",
      " 1   SPOT EXCHANGE RATE - EURO AREA                                                     297 non-null    object\n",
      " 2   United Kingdom -- Spot Exchange Rate, US$/Pound Sterling Reciprocal of rxi_n.m.uk  297 non-null    object\n",
      " 3   JAPAN -- SPOT EXCHANGE RATE, YEA/US$                                               297 non-null    object\n",
      " 4   SWITZERLAND -- SPOT EXCHANGE RATE, FRANCS/US$                                      297 non-null    object\n",
      "dtypes: object(5)\n",
      "memory usage: 11.7+ KB\n",
      "None\n",
      "0                    Unit:\n",
      "1              Multiplier:\n",
      "2                Currency:\n",
      "3      Unique Identifier: \n",
      "4              Time Period\n",
      "              ...         \n",
      "292                2023-12\n",
      "293                2024-01\n",
      "294                2024-02\n",
      "295                2024-03\n",
      "296                2024-04\n",
      "Name: Series Description, Length: 297, dtype: object\n"
     ]
    }
   ],
   "source": [
    "import pandas as pd\n",
    "\n",
    "file_path = \"../data/raw/exchange_rates_df.pkl\"\n",
    "exchange_data = pd.read_pickle(file_path)\n",
    "\n",
    "print(exchange_data.info())\n",
    "print(exchange_data['Series Description'])"
   ]
  }
 ],
 "metadata": {
  "kernelspec": {
   "display_name": "env",
   "language": "python",
   "name": "python3"
  },
  "language_info": {
   "codemirror_mode": {
    "name": "ipython",
    "version": 3
   },
   "file_extension": ".py",
   "mimetype": "text/x-python",
   "name": "python",
   "nbconvert_exporter": "python",
   "pygments_lexer": "ipython3",
   "version": "3.9.5"
  }
 },
 "nbformat": 4,
 "nbformat_minor": 2
}
