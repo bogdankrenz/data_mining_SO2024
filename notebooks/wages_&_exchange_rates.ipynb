{
 "cells": [
  {
   "cell_type": "code",
   "execution_count": null,
   "metadata": {},
   "outputs": [],
   "source": [
    "import pandas as pd\n",
    "\n",
    "file_path = \"../data/raw/wages_df.pkl\"\n",
    "wages_data = pd.read_pickle(file_path)\n",
    "\n",
    "# Wages contains wages by the hour for a certain month of the year\n",
    "print(wages_data.head())"
   ]
  },
  {
   "cell_type": "code",
   "execution_count": null,
   "metadata": {},
   "outputs": [],
   "source": [
    "import pandas as pd\n",
    "\n",
    "file_path = \"../data/raw/exchange_rates_df.pkl\"\n",
    "exchange_data = pd.read_pickle(file_path)\n",
    "\n",
    "print(exchange_data.info())\n",
    "print(exchange_data['Series Description'])"
   ]
  }
 ],
 "metadata": {
  "kernelspec": {
   "display_name": "env",
   "language": "python",
   "name": "python3"
  },
  "language_info": {
   "codemirror_mode": {
    "name": "ipython",
    "version": 3
   },
   "file_extension": ".py",
   "mimetype": "text/x-python",
   "name": "python",
   "nbconvert_exporter": "python",
   "pygments_lexer": "ipython3",
   "version": "3.9.5"
  }
 },
 "nbformat": 4,
 "nbformat_minor": 2
}
