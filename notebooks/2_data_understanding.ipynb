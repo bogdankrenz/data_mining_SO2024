{
 "cells": [
  {
   "cell_type": "markdown",
   "id": "cf5016fa-e033-4c16-8539-583553cdf284",
   "metadata": {},
   "source": [
    "# Data Understanding\n",
    "\n",
    "## Preperation\n",
    "\n",
    "Import packages and set globals\n"
   ]
  },
  {
   "cell_type": "code",
   "execution_count": null,
   "id": "85a6ebff-029d-4f0f-8167-5c52bd158b30",
   "metadata": {
    "ExecuteTime": {
     "end_time": "2024-07-09T14:14:32.880168Z",
     "start_time": "2024-07-09T14:14:32.871112Z"
    }
   },
   "outputs": [],
   "source": [
    "import pandas as pd\n",
    "import numpy as np\n",
    "import seaborn as sns\n",
    "import matplotlib.pyplot as plt\n",
    "\n",
    "pd.set_option(\"display.width\", 1000)\n",
    "pd.set_option(\"display.max_columns\", None)\n",
    "pd.options.display.float_format = \"{:.2f}\".format\n",
    "\n",
    "%matplotlib inline\n",
    "plt.rcParams[\"figure.figsize\"] = (20, 6)"
   ]
  },
  {
   "cell_type": "code",
   "execution_count": null,
   "id": "d7d9dc34-fe8e-4683-9d73-fdacdaf1f444",
   "metadata": {
    "ExecuteTime": {
     "end_time": "2024-07-09T14:14:33.548475Z",
     "start_time": "2024-07-09T14:14:33.010251Z"
    }
   },
   "outputs": [],
   "source": [
    "gdp_df = pd.read_pickle(\"../data/raw/gdp.pkl\")\n",
    "occ_df = pd.read_pickle(\"../data/raw/naics_occupation.pkl\")\n",
    "ptn_df = pd.read_pickle(\"../data/raw/naics_pattern.pkl\")"
   ]
  },
  {
   "cell_type": "markdown",
   "id": "b4aebb0b-45a2-45fa-a004-29c6ee8156f6",
   "metadata": {},
   "source": [
    "Based on instruction given to us, we preemptivly drop uninteresting NAICS\n"
   ]
  },
  {
   "cell_type": "code",
   "execution_count": null,
   "id": "269f3d37-9849-42bd-8e32-0fcd00488965",
   "metadata": {},
   "outputs": [],
   "source": [
    "naics_filter = \"|\".join([\"^11\", \"^21\", \"^22\", \"^23\", \"^31\", \"^32\", \"^33\"])\n",
    "\n",
    "gdp_df = gdp_df.loc[gdp_df[\"IndustryClassification\"].str.contains(naics_filter)]\n",
    "occ_df = occ_df.loc[occ_df[\"naics\"].str.contains(naics_filter)]\n",
    "ptn_df = ptn_df.loc[ptn_df[\"naics\"].str.contains(naics_filter)]"
   ]
  },
  {
   "cell_type": "markdown",
   "id": "e147a51b-2a51-4918-bb1f-f5ee03056fcf",
   "metadata": {},
   "source": [
    "## Structure\n",
    "\n",
    "Brief overview of the different datasets given to us\n",
    "\n",
    "### Data Format\n"
   ]
  },
  {
   "cell_type": "code",
   "execution_count": null,
   "id": "c88eb5dd-4a99-406d-86d3-94453c2f8511",
   "metadata": {
    "ExecuteTime": {
     "end_time": "2024-07-09T14:14:33.579528Z",
     "start_time": "2024-07-09T14:14:33.552086Z"
    }
   },
   "outputs": [],
   "source": [
    "gdp_df.head(10)"
   ]
  },
  {
   "cell_type": "code",
   "execution_count": null,
   "id": "718c3d16311744df",
   "metadata": {
    "ExecuteTime": {
     "end_time": "2024-07-09T14:14:33.609553Z",
     "start_time": "2024-07-09T14:14:33.584694Z"
    }
   },
   "outputs": [],
   "source": [
    "occ_df.head(10)"
   ]
  },
  {
   "cell_type": "code",
   "execution_count": null,
   "id": "c5d236ac5e5f6730",
   "metadata": {
    "ExecuteTime": {
     "end_time": "2024-07-09T14:14:33.644973Z",
     "start_time": "2024-07-09T14:14:33.615743Z"
    }
   },
   "outputs": [],
   "source": [
    "ptn_df.head(10)"
   ]
  },
  {
   "cell_type": "markdown",
   "id": "9c9fd976-640d-40e3-9771-ca1d23f666cd",
   "metadata": {
    "ExecuteTime": {
     "end_time": "2024-07-09T14:14:33.653143Z",
     "start_time": "2024-07-09T14:14:33.648190Z"
    }
   },
   "source": [
    "### Info\n"
   ]
  },
  {
   "cell_type": "code",
   "execution_count": null,
   "id": "15b7e99b-69dd-42bf-aa64-fc86308013e9",
   "metadata": {},
   "outputs": [],
   "source": [
    "gdp_df.info()"
   ]
  },
  {
   "cell_type": "code",
   "execution_count": null,
   "id": "d6fce777-e99c-4183-9443-3112b918568c",
   "metadata": {},
   "outputs": [],
   "source": [
    "occ_df.info()"
   ]
  },
  {
   "cell_type": "code",
   "execution_count": null,
   "id": "c714cb82-a51b-48a3-87f5-d5fa12019353",
   "metadata": {},
   "outputs": [],
   "source": [
    "ptn_df.info()"
   ]
  },
  {
   "cell_type": "markdown",
   "id": "5e4c1ea7-8671-46ff-9bdf-cb5983ca3ce6",
   "metadata": {},
   "source": [
    "## Analysis\n",
    "\n",
    "### Top Industries\n"
   ]
  },
  {
   "cell_type": "code",
   "execution_count": null,
   "id": "f95f29c5-854c-46f4-9f0f-ede90b187a04",
   "metadata": {},
   "outputs": [],
   "source": [
    "top_industries = pd.DataFrame()"
   ]
  },
  {
   "cell_type": "markdown",
   "id": "4e34a355-f58e-4447-a999-e670c585b287",
   "metadata": {},
   "source": [
    "#### GDP\n",
    "\n",
    "By 2022 gdp\n"
   ]
  },
  {
   "cell_type": "code",
   "execution_count": null,
   "id": "9312bce6-8e56-48b1-9bd6-dbb7e5624993",
   "metadata": {},
   "outputs": [],
   "source": [
    "# highest_gdp = gdp_df.groupby([\"IndustryClassification\", \"Description\"])[[\"2017\", \"2018\", \"2019\", \"2020\", \"2021\", \"2022\"]].sum().reset_index()\n",
    "# top_industries[\"2022_gdp\"] = highest_gdp.sort_values(by=\"2022\", ascending=False).reset_index()[\"IndustryClassification\"]"
   ]
  },
  {
   "cell_type": "markdown",
   "id": "56bc3d4a-3828-406d-9216-c0e15c38ff84",
   "metadata": {},
   "source": [
    "Mean gdp from 2017 - 2022\n"
   ]
  },
  {
   "cell_type": "code",
   "execution_count": null,
   "id": "f014e2d3-0724-4a00-af09-4b892f953a78",
   "metadata": {},
   "outputs": [],
   "source": [
    "# highest_gdp['mean_gdp'] = highest_gdp[[\"2017\", \"2018\", \"2019\", \"2020\", \"2021\", \"2022\"]].mean(axis=1)\n",
    "# top_industries[\"mean_gdp\"] = highest_gdp.sort_values(by=\"mean_gdp\", ascending=False).reset_index()[\"IndustryClassification\"]"
   ]
  },
  {
   "cell_type": "markdown",
   "id": "a247835b-a1a0-4a5a-82df-9a056783c847",
   "metadata": {},
   "source": [
    "#### OCC\n",
    "\n",
    "By employment\n"
   ]
  },
  {
   "cell_type": "code",
   "execution_count": null,
   "id": "1ef10b1d-dfef-4956-a5d7-d9f67f461888",
   "metadata": {},
   "outputs": [],
   "source": [
    "highest_employment = occ_df.groupby([\"naics\", \"NAICS_TITLE\"])[\n",
    "    \"emp_total_county_naics\"\n",
    "].sum()\n",
    "top_industries[\"employment\"] = highest_employment.sort_values(\n",
    "    ascending=False\n",
    ").reset_index()[\"naics\"]"
   ]
  },
  {
   "cell_type": "markdown",
   "id": "0a9d21cd-aef6-47de-9949-1f26a725afac",
   "metadata": {},
   "source": [
    "#### Pattern\n",
    "\n",
    "By annual pay\n"
   ]
  },
  {
   "cell_type": "code",
   "execution_count": null,
   "id": "5c9636fc-f744-43c4-975a-6db25052dc70",
   "metadata": {},
   "outputs": [],
   "source": [
    "highest_pay = ptn_df.groupby([\"naics\", \"DESCRIPTION\"])[[\"ap\", \"qp1\", \"emp\"]].sum()\n",
    "top_industries[\"ap\"] = highest_pay.sort_values(by=\"ap\", ascending=False).reset_index()[\n",
    "    \"naics\"\n",
    "]"
   ]
  },
  {
   "cell_type": "markdown",
   "id": "7030aeca-e27f-4dc8-bb1b-0bf991961835",
   "metadata": {},
   "source": [
    "By pay per person\n"
   ]
  },
  {
   "cell_type": "code",
   "execution_count": null,
   "id": "820205ee-55e3-49aa-ac7b-99a09fa033be",
   "metadata": {
    "scrolled": true
   },
   "outputs": [],
   "source": [
    "highest_pay[\"ap_per_emp\"] = highest_pay[\"ap\"] / highest_pay[\"emp\"]\n",
    "top_industries[\"ap_per_emp\"] = highest_pay.sort_values(\n",
    "    by=\"ap_per_emp\", ascending=False\n",
    ").reset_index()[\"naics\"]"
   ]
  },
  {
   "cell_type": "markdown",
   "id": "323f31d7-380e-41f8-bdc9-577e4e2ade5e",
   "metadata": {},
   "source": [
    "By establishments\n"
   ]
  },
  {
   "cell_type": "code",
   "execution_count": null,
   "id": "99d91a53-095a-4838-8677-5867355f8663",
   "metadata": {},
   "outputs": [],
   "source": [
    "highest_est = ptn_df.groupby([\"naics\", \"DESCRIPTION\"])[[\"emp\", \"est\"]].sum()\n",
    "highest_est[\"emp_per_est\"] = highest_est[\"emp\"] / highest_est[\"est\"]\n",
    "\n",
    "top_industries[\"establishments\"] = highest_est.sort_values(\n",
    "    by=\"est\", ascending=False\n",
    ").reset_index()[\"naics\"]"
   ]
  },
  {
   "cell_type": "markdown",
   "id": "c34303c6",
   "metadata": {},
   "source": [
    "By employees per est\n"
   ]
  },
  {
   "cell_type": "code",
   "execution_count": null,
   "id": "b9d31a57",
   "metadata": {},
   "outputs": [],
   "source": [
    "top_industries[\"emp_per_establishments\"] = highest_est.sort_values(\n",
    "    by=\"emp_per_est\", ascending=False\n",
    ").reset_index()[\"naics\"]"
   ]
  },
  {
   "cell_type": "markdown",
   "id": "9a0ef9d9-4884-4183-a1a8-206eff6332b0",
   "metadata": {},
   "source": [
    "#### Overview\n"
   ]
  },
  {
   "cell_type": "code",
   "execution_count": null,
   "id": "8196d6bc-07c8-45a5-914c-12fe98654d8d",
   "metadata": {},
   "outputs": [],
   "source": [
    "top_industries.head(20)"
   ]
  },
  {
   "cell_type": "markdown",
   "id": "32a5a44f",
   "metadata": {},
   "source": [
    "**_Durable Goods_** is the most interesting branch, as Pferd-Werkzeuge creates product for this industry in specific. They also seem to have a high gdp, which makes them a better target for premium products.\n",
    "\n",
    "The **_Construction_** branch could be interesting, as many of the product produces by Pferd, can also be used for woodworking etc. and they have a high number of employments, yet their gdp doesn't seem to follow suit. So we exclude them for now.\n",
    "\n",
    "Picked NAICS:\n",
    "\n",
    "1. 3364 Aerospace Product and Parts Manufacturing\n",
    "2. 3363 Motor Vehicle Parts Manufacturing\n",
    "3. 3330A1 Machinery Manufacturing\n",
    "4. 3320A2 Fabricated Metal Product Manufacturing\n",
    "5. 3261 Plastic Product Manufacturing\n"
   ]
  },
  {
   "cell_type": "markdown",
   "id": "77cd65d3",
   "metadata": {},
   "source": [
    "### Top Occupations\n"
   ]
  },
  {
   "cell_type": "code",
   "execution_count": null,
   "id": "8685f019",
   "metadata": {},
   "outputs": [],
   "source": [
    "top_occupations = pd.DataFrame()\n",
    "\n",
    "top_industries = [\"3364\", \"3363\", \"3330A1\", \"3320A2\", \"3261\"]\n",
    "\n",
    "occ_df_filtered_naic1 = occ_df[occ_df[\"naics\"] == top_industries[0]]\n",
    "occ_df_filtered_rest = occ_df[occ_df[\"naics\"].isin(top_industries)]"
   ]
  },
  {
   "cell_type": "markdown",
   "id": "32c2bfae",
   "metadata": {},
   "source": [
    "By employees\n"
   ]
  },
  {
   "cell_type": "code",
   "execution_count": null,
   "id": "659bf3b7",
   "metadata": {},
   "outputs": [],
   "source": [
    "top_occupations = occ_df_filtered_naic1.groupby([\"OCC_CODE\", \"OCC_TITLE\"])[\n",
    "    \"emp_occupation\"\n",
    "].sum()\n",
    "top_occupations = top_occupations.sort_values(ascending=False)\n",
    "\n",
    "top_occupations.head(20)"
   ]
  },
  {
   "cell_type": "code",
   "execution_count": null,
   "id": "d6eeee74",
   "metadata": {},
   "outputs": [],
   "source": [
    "top_occupations = occ_df_filtered_rest.groupby([\"OCC_CODE\", \"OCC_TITLE\"])[\n",
    "    \"emp_occupation\"\n",
    "].sum()\n",
    "top_occupations = top_occupations.sort_values(ascending=False)\n",
    "\n",
    "top_occupations.head(20)"
   ]
  },
  {
   "cell_type": "markdown",
   "id": "e2c98560",
   "metadata": {},
   "source": [
    "Occupations that peak our interest are the ones, that would directly use our products (premium tools for metalworking)\n",
    "\n",
    "1. 51-4072 Molding, Coremaking, and Casting Machine Setters, Operators, and Tenders, Metal and Plastic\n",
    "2. 51-4121 Welders, Cutters, Solderers, and Brazers Machinists\n",
    "3. 51-4031 Cutting, Punching, and Press Machine Setters, Operators, and Tenders, Metal and Plastic\n",
    "4. 51-4081 Multiple Machine Tool Setters, Operators, and Tenders, Metal and Plastic\n",
    "5. 17-2112 Industrial Engineers\n"
   ]
  },
  {
   "cell_type": "code",
   "execution_count": null,
   "id": "577efec5",
   "metadata": {},
   "outputs": [],
   "source": [
    "top_occupations = [\"51-4072\", \"51-4121\", \"51-4031\", \"51-4081\", \"17-2112\"]"
   ]
  },
  {
   "cell_type": "markdown",
   "id": "a7727ed0",
   "metadata": {},
   "source": [
    "## Export\n"
   ]
  },
  {
   "cell_type": "code",
   "execution_count": null,
   "id": "a50c6657",
   "metadata": {},
   "outputs": [],
   "source": [
    "top_picks = pd.DataFrame()\n",
    "\n",
    "top_picks[\"naics\"] = top_industries\n",
    "top_picks[\"occ\"] = top_occupations\n",
    "\n",
    "pd.to_pickle(top_picks, \"../data/processed/top_picks.pkl\")"
   ]
  }
 ],
 "metadata": {
  "kernelspec": {
   "display_name": "Python 3 (ipykernel)",
   "language": "python",
   "name": "python3"
  },
  "language_info": {
   "codemirror_mode": {
    "name": "ipython",
    "version": 3
   },
   "file_extension": ".py",
   "mimetype": "text/x-python",
   "name": "python",
   "nbconvert_exporter": "python",
   "pygments_lexer": "ipython3",
   "version": "3.12.2"
  }
 },
 "nbformat": 4,
 "nbformat_minor": 5
}
