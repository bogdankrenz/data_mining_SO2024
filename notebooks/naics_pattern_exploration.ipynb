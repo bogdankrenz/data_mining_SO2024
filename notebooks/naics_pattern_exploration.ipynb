{
 "cells": [
  {
   "cell_type": "code",
   "execution_count": null,
   "metadata": {},
   "outputs": [],
   "source": [
    "import pickle\n",
    "\n",
    "with open(\"../data/raw/naics_occupation.pkl\", \"rb\") as file:\n",
    "  df = pickle.load(file)\n",
    "\n",
    "cols_to_drop = [\"State_GEOID\", \"NAICS_TITLE\"]\n",
    "\n",
    "naics_filter = [\"^11\", \"^21\", \"^22\", \"^23\", \"^31\", \"^32\", \"^33\"]\n",
    "naics_filter = \"|\".join(naics_filter)\n",
    "records_to_drop = df[df[\"naics\"].str.contains(naics_filter)].index\n",
    "\n",
    "df.drop(cols_to_drop, axis=1, inplace=True)\n",
    "df.drop(records_to_drop, inplace=True)\n",
    "\n",
    "print(df[\"naics\"])\n",
    "print(df.columns)"
   ]
  }
 ],
 "metadata": {
  "kernelspec": {
   "display_name": ".venv",
   "language": "python",
   "name": "python3"
  },
  "language_info": {
   "codemirror_mode": {
    "name": "ipython",
    "version": 3
   },
   "file_extension": ".py",
   "mimetype": "text/x-python",
   "name": "python",
   "nbconvert_exporter": "python",
   "pygments_lexer": "ipython3",
   "version": "3.12.3"
  }
 },
 "nbformat": 4,
 "nbformat_minor": 2
}
