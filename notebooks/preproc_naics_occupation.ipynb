{
 "cells": [
  {
   "cell_type": "code",
   "execution_count": 9,
   "metadata": {},
   "outputs": [],
   "source": [
    "import pickle\n",
    "import pandas as pd\n",
    "pd.set_option(\"display.width\", 1000)\n",
    "\n",
    "with open(\"../data/raw/naics_occupation.pkl\", \"rb\") as file:\n",
    "  df = pickle.load(file)"
   ]
  },
  {
   "cell_type": "code",
   "execution_count": 10,
   "metadata": {},
   "outputs": [],
   "source": [
    "# Drop unnecessary cols\n",
    "cols_to_drop = [\"State_GEOID\", \"NAICS_TITLE\", \"OCC_TITLE\"]\n",
    "df = df.drop(cols_to_drop, axis=1)"
   ]
  },
  {
   "cell_type": "code",
   "execution_count": 11,
   "metadata": {},
   "outputs": [],
   "source": [
    "# Create new compress naics col\n",
    "def map_naics_code(naics_code):\n",
    "  code_prefix = naics_code[:2]\n",
    "\n",
    "  if code_prefix in [\"31\", \"32\", \"33\"]:\n",
    "    return \"31-33\"\n",
    "  else:\n",
    "    return code_prefix\n",
    "\n",
    "df[\"naics_2\"] = df[\"naics\"].apply(map_naics_code)"
   ]
  },
  {
   "cell_type": "code",
   "execution_count": 12,
   "metadata": {},
   "outputs": [],
   "source": [
    "# Reorder Columns\n",
    "col_order = [\"FIPS\", \"naics_2\", \"naics\", \"emp_total_county_naics\", \"OCC_CODE\", \"emp_occupation\"]\n",
    "df = df[col_order]"
   ]
  },
  {
   "cell_type": "code",
   "execution_count": 13,
   "metadata": {},
   "outputs": [],
   "source": [
    "# Remove naics we won't use\n",
    "naics_codes = [\"11\", \"21\", \"22\", \"23\", \"31-33\"]\n",
    "df = df.loc[df[\"naics_2\"].isin(naics_codes)]"
   ]
  },
  {
   "cell_type": "code",
   "execution_count": 14,
   "metadata": {},
   "outputs": [],
   "source": [
    "# Remove global (0) and unknown county (999$) fips\n",
    "fips_filter = \"|\".join([\"0\", \"999$\"])\n",
    "df = df[~df[\"FIPS\"].astype(str).str.contains(fips_filter)]"
   ]
  },
  {
   "cell_type": "code",
   "execution_count": 15,
   "metadata": {},
   "outputs": [],
   "source": [
    "# Sort by employee sum in naics in fips\n",
    "df = df.sort_values(by=[\"emp_total_county_naics\"], ascending=False)"
   ]
  },
  {
   "cell_type": "code",
   "execution_count": 16,
   "metadata": {},
   "outputs": [],
   "source": [
    "# Save DataFrame to file\n",
    "df = df.reset_index().drop(\"index\", axis=1)\n",
    "\n",
    "with open(\"../data/processed/naics_occupation.pkl\", \"wb\") as handle:\n",
    "  pickle.dump(df, handle, protocol=pickle.HIGHEST_PROTOCOL)"
   ]
  }
 ],
 "metadata": {
  "kernelspec": {
   "display_name": ".venv",
   "language": "python",
   "name": "python3"
  },
  "language_info": {
   "codemirror_mode": {
    "name": "ipython",
    "version": 3
   },
   "file_extension": ".py",
   "mimetype": "text/x-python",
   "name": "python",
   "nbconvert_exporter": "python",
   "pygments_lexer": "ipython3",
   "version": "3.12.3"
  }
 },
 "nbformat": 4,
 "nbformat_minor": 2
}
